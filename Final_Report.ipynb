{
  "cells": [
    {
      "cell_type": "markdown",
      "metadata": {
        "id": "q7xV_-zP--0t"
      },
      "source": [
        "# TIØ4317 - Mini Project Report"
      ]
    },
    {
      "cell_type": "markdown",
      "metadata": {},
      "source": [
        "If possible, view the report on google colab as it has all the neccessary figures: https://colab.research.google.com/drive/1-bwVLkEdyx1HjbkoY0TKpmA6cOhL5pkS?usp=sharing"
      ]
    },
    {
      "cell_type": "code",
      "execution_count": 1,
      "metadata": {},
      "outputs": [
        {
          "name": "stderr",
          "output_type": "stream",
          "text": [
            "/Users/philipmaurstaduv/opt/anaconda3/lib/python3.9/site-packages/pandas/core/computation/expressions.py:21: UserWarning: Pandas requires version '2.8.4' or newer of 'numexpr' (version '2.8.1' currently installed).\n",
            "  from pandas.core.computation.check import NUMEXPR_INSTALLED\n",
            "/Users/philipmaurstaduv/opt/anaconda3/lib/python3.9/site-packages/pandas/core/arrays/masked.py:60: UserWarning: Pandas requires version '1.3.6' or newer of 'bottleneck' (version '1.3.4' currently installed).\n",
            "  from pandas.core import (\n"
          ]
        }
      ],
      "source": [
        "import pandas as pd\n",
        "import matplotlib.pyplot as plt\n",
        "import numpy as np\n",
        "from statsmodels.tsa.stattools import adfuller, acf, pacf\n",
        "import pmdarima as pm\n",
        "from statsmodels.tsa.arima.model import ARIMA\n",
        "from arch import arch_model\n"
      ]
    },
    {
      "cell_type": "markdown",
      "metadata": {
        "id": "n-6XOxN2_lQ4"
      },
      "source": [
        "## Introduction & Problem Statement"
      ]
    },
    {
      "cell_type": "markdown",
      "metadata": {
        "id": "L4XHmCgW_qoG"
      },
      "source": [
        "Trading Bitcoin (BTC) can be very challenging due to its high volatility and unpredictable price movements. Traditional trading methods often rely heavily on intuition or basic indicators, which might not perform well under complex market conditions. To tackle this problem, there's a clear need for more reliable and data-driven approaches that use past price data to predict future price movements accurately. This project aims to develop algorithmic trading strategies by combining machine learning and statistical methods. Using historical BTC/USD market data from 2020 to 2023, our goal is to create strategies that can maximize profits and manage risks effectively when trading Bitcoin in 2024."
      ]
    },
    {
      "cell_type": "markdown",
      "metadata": {
        "id": "hpUZb6cH_q46"
      },
      "source": [
        "## Data"
      ]
    },
    {
      "cell_type": "markdown",
      "metadata": {
        "id": "5zJSlS1d4qjn"
      },
      "source": [
        "For this project, we will use historical market data for Bitcoin (BTC/USD) from January 1, 2020, to December 31, 2024. The data was extracted with 4 hour intervals from Binance, a well-known cryptocurrency exchange. Consult `fetch_btc_data.py` for furhter insights about the data collection process.\n",
        "\n",
        "### Data description\n",
        "\n",
        "The data file extracted from Binance consists of the following columns: *Open Time, Open, High, Low, Close, Volume, Close Time, Quote Asset Volume, Trades, Taker Base Volume,  Taker Quote Volume, Ignore*. After collecting the data, we convert it into a structured format using Python’s Pandas library. We then split the data into training and test sets. Data from January 2020 to December 2023 is used for training (`BTCUSDT_4h_train_data.csv`), while the data from 2024 is used for validation (`BTCUSDT_4h_test_data.csv`)."
      ]
    },
    {
      "cell_type": "code",
      "execution_count": 2,
      "metadata": {},
      "outputs": [],
      "source": [
        "btc_train = pd.read_csv(\"BTCUSDT_4h_train_data.csv\")\n",
        "btc_test = pd.read_csv(\"BTCUSDT_4h_test_data.csv\")\n",
        "\n",
        "btc_train[\"Close Time\"] = pd.to_datetime(btc_train[\"Close Time\"])\n",
        "btc_train.set_index(\"Close Time\", inplace=True)\n",
        "btc_test[\"Close Time\"] = pd.to_datetime(btc_test[\"Close Time\"])\n",
        "btc_test.set_index(\"Close Time\", inplace=True)"
      ]
    },
    {
      "cell_type": "code",
      "execution_count": 3,
      "metadata": {
        "id": "9k53ZDm-7vG3"
      },
      "outputs": [
        {
          "name": "stdout",
          "output_type": "stream",
          "text": [
            "              Close         Volume\n",
            "count   9000.000000    9000.000000\n",
            "mean   29221.852912   65209.306814\n",
            "std    15081.152786   55899.521277\n",
            "min     4553.390000    4452.648000\n",
            "25%    17111.955000   30302.682750\n",
            "50%    27735.150000   48778.104500\n",
            "75%    41051.125000   81261.771000\n",
            "max    68563.980000  996111.854000\n"
          ]
        }
      ],
      "source": [
        "# Only for 'close' and 'volume'\n",
        "desc_stats = btc_train[['Close', 'Volume']].describe()\n",
        "print(desc_stats)"
      ]
    },
    {
      "cell_type": "markdown",
      "metadata": {
        "id": "-mq36V_j7d25"
      },
      "source": [
        "Some of the most interesting data here is the *Close* and *Volume*. From the statistics above we can see that the average closing price for one Bitcoin during the training data period was 29,211.85 USD. The standard deviation in the same period is 15,081.5, with a maximum peak of 68,563.98 and low point at 4,553.39. The standard deviation is quite high compared to the mean, highlighting the extreme volatility of Bitcoin. The closing price plot shows a gradual increase on average between 2020 and 2024, with a long period of higher peaks in 2021 and 2022 before normalizing in 2023."
      ]
    },
    {
      "cell_type": "code",
      "execution_count": 13,
      "metadata": {
        "colab": {
          "base_uri": "https://localhost:8080/",
          "height": 224
        },
        "id": "CvyRZyIJ_ClB",
        "outputId": "29fc11cd-8599-4f7e-da34-1b5a964cfa66"
      },
      "outputs": [
        {
          "data": {
            "text/plain": [
              "<Axes: xlabel='Close Time'>"
            ]
          },
          "execution_count": 13,
          "metadata": {},
          "output_type": "execute_result"
        },
        {
          "data": {
            "image/png": "[encoded data removed]",
            "text/plain": [
              "<Figure size 432x288 with 1 Axes>"
            ]
          },
          "metadata": {
            "needs_background": "light"
          },
          "output_type": "display_data"
        }
      ],
      "source": [
        "# Visual inspesction of time series\n",
        "btc_train['Close'].plot()"
      ]
    },
    {
      "cell_type": "markdown",
      "metadata": {
        "id": "Y9jglyMU_DPI"
      },
      "source": [
        "The high volatility also applies to the trade volume. The average volume was 65,209.31, with a relatively high standard deviation of 55,889.52. The volume range is also considerable, ranging from 4,452.65 to 996,111.85. The high peaks clearly stand out:"
      ]
    },
    {
      "cell_type": "code",
      "execution_count": 14,
      "metadata": {
        "colab": {
          "base_uri": "https://localhost:8080/",
          "height": 224
        },
        "id": "v2d3ORvH_JH4",
        "outputId": "5f91c368-ae96-415c-ab74-e19a8bfd2951"
      },
      "outputs": [
        {
          "data": {
            "text/plain": [
              "<Axes: xlabel='Close Time'>"
            ]
          },
          "execution_count": 14,
          "metadata": {},
          "output_type": "execute_result"
        },
        {
          "data": {
            "image/png": "[encoded data removed]",
            "text/plain": [
              "<Figure size 432x288 with 1 Axes>"
            ]
          },
          "metadata": {
            "needs_background": "light"
          },
          "output_type": "display_data"
        }
      ],
      "source": [
        "# Visual inspection of trading volume\n",
        "btc_train['Volume'].plot()"
      ]
    },
    {
      "cell_type": "markdown",
      "metadata": {
        "id": "vpYQzA__N7fP"
      },
      "source": [
        "### Data processing\n",
        "To prepare the data for analysis, we first retrieve historical Bitcoin market data from the Binance API, specifically using intra-daily candle information for the BTC/USD pair with four hour intervals. Each candle provides important details, mainly opening and closing prices, high and low prices, and traded volume."
      ]
    },
    {
      "cell_type": "markdown",
      "metadata": {
        "id": "mrZ9mhr__r_m"
      },
      "source": [
        "Once the raw data is collected, we start the preprocessing stage. First, any data points with zero trading volume are removed to maintain data quality. We then compute several technical indicators to help predict price trends:\n",
        "\n",
        "\n",
        "* **Hull Moving Averages (HMA):** Two HMAs (fast and slow) are calculated based on different periods (10 and 30). HMAs smooth out the price data and help us identify short-term and long-term trends.\n",
        "* **Supertrend Indicator:** This indicator uses the Average True Range (ATR) to detect market volatility and define upper and lower bands, which indicate potential trend directions (bullish or bearish).\n",
        "\n",
        "\n",
        "After computing these indicators, we generate trading signals based on their combined results. Specifically:\n",
        "\n",
        "\n",
        "*   A **buy signal** is generated when the fast HMA crosses above the slow HMA, and the Supertrend indicator signals an uptrend.\n",
        "*   A **sell signal** is generated when the fast HMA crosses below the slow HMA, and the Supertrend indicates a downtrend.\n",
        "*   If neither condition is met, no trading signal is generated.\n",
        "\n",
        "\n",
        "Finally, the trading signals are refined to ensure clarity and avoid duplicate signals, marking each signal explicitly as a \"long,\" \"short,\" or \"close\" trade. This processed and structured dataset is then used to perform a backtest, allowing us to evaluate the profitability and effectiveness of our trading strategies.\n"
      ]
    },
    {
      "cell_type": "markdown",
      "metadata": {
        "id": "MBdl5Uz6_st7"
      },
      "source": [
        "## Empirical Analysis\n",
        "This section will describe all steps in the empirical analisys that was used to form the trading strategies. These steps includes stationarity checks, investigation of heteroscedasticity and autocorrelation, fiting of ARIMA models, volatility measures, moving averages models and an ensamble ML model.\n",
        "\n"
      ]
    },
    {
      "cell_type": "markdown",
      "metadata": {
        "id": "DzSN6XTr_0h-"
      },
      "source": [
        "### Stationarity"
      ]
    },
    {
      "cell_type": "markdown",
      "metadata": {
        "id": "QzmNkeyKFfB1"
      },
      "source": [
        "A lot of statistical time series models, including ARIMA, assumes stationary data. A process is said to be stationary if its statistical properties, like mean and variance, do not change over time. The dataset can be controlled for stationarity through the augmented Dickey-Fuller (ADF) test. This tests has a null hypothesis saying that the time series has a unit root, which is a key indicator of non-stationarity."
      ]
    },
    {
      "cell_type": "code",
      "execution_count": 15,
      "metadata": {
        "id": "7JU3oEiqCBNk"
      },
      "outputs": [
        {
          "name": "stdout",
          "output_type": "stream",
          "text": [
            "ADF Statistic: -1.7355336892062028\n",
            "p-value: 0.4129036578090112\n",
            "The data is not stationary\n"
          ]
        }
      ],
      "source": [
        "def adfTest(data):\n",
        "    adf = adfuller(data)\n",
        "    print(f'ADF Statistic: {adf[0]}')\n",
        "    print(f'p-value: {adf[1]}')\n",
        "\n",
        "    if adf[1] > 0.05:\n",
        "        print('The data is not stationary')\n",
        "    else:\n",
        "        print('The data is stationary')\n",
        "\n",
        "adfTest(btc_train[\"Close\"])"
      ]
    },
    {
      "cell_type": "markdown",
      "metadata": {
        "id": "_EKBuR-eB-EP"
      },
      "source": [
        "The ADF test gave a p-value equal to 0.42, over the threshold of 0.05, meaning that there is not significant statisitcal evidence to reject the null hypothesis and assume that the data is stationary. Models like ARIMA assume stationarity. Hence, it is necessary to make the data stationary to make correct statistical inferences. One simple method for making data stationary is to take the first difference.\n",
        "<br/>\n",
        "<br/>\n",
        "The first difference of a time series ( $X_t $) is defined as:\n",
        "\n",
        "$$\n",
        "\\Delta X_t = X_t - X_{t-1}\n",
        "$$\n",
        "\n",
        "\n",
        "\n",
        "This transformation is commonly used to remove trends and make a non-stationary time series stationary."
      ]
    },
    {
      "cell_type": "code",
      "execution_count": 19,
      "metadata": {
        "id": "6uEuRaQsAB4s"
      },
      "outputs": [
        {
          "name": "stdout",
          "output_type": "stream",
          "text": [
            "ADF Statistic: -14.186321859286243\n",
            "p-value: 1.89013388961956e-26\n",
            "The data is stationary\n"
          ]
        }
      ],
      "source": [
        "df_first_diff = btc_train.copy()\n",
        "\n",
        "#We take the first difference\n",
        "df_first_diff['close_diff'] = df_first_diff['Close'].diff().dropna()\n",
        "df_first_diff = df_first_diff.dropna()\n",
        "\n",
        "#Then we test for stationarity again\n",
        "adfTest(df_first_diff['close_diff'])"
      ]
    },
    {
      "cell_type": "markdown",
      "metadata": {
        "id": "8nq2RzN-DLWC"
      },
      "source": [
        "We now obtain a p-value of 1.89e-26 from the ADF test. This is below the significance level of 0.05, and we can reject the null hypothesis of non-stationarity. Thus, applying the first difference made the data stationary."
      ]
    },
    {
      "cell_type": "markdown",
      "metadata": {
        "id": "NCZtGjk3Djzp"
      },
      "source": [
        "We can then plot the data with first difference to inspect whether the data looks to be stationary."
      ]
    },
    {
      "cell_type": "code",
      "execution_count": 20,
      "metadata": {
        "id": "oct3Ps8iDZ7W"
      },
      "outputs": [
        {
          "data": {
            "text/plain": [
              "<Axes: xlabel='Close Time'>"
            ]
          },
          "execution_count": 20,
          "metadata": {},
          "output_type": "execute_result"
        },
        {
          "data": {
            "image/png": "[encoded data removed]",
            "text/plain": [
              "<Figure size 432x288 with 1 Axes>"
            ]
          },
          "metadata": {
            "needs_background": "light"
          },
          "output_type": "display_data"
        }
      ],
      "source": [
        "df_first_diff['close_diff'].plot()"
      ]
    },
    {
      "cell_type": "markdown",
      "metadata": {
        "id": "12KZyl8sD4Nk"
      },
      "source": [
        "The plot displays that the mean now seems to be constant over time. However, the variance is not constant over time and points in time of low (high) volatility seems to be followed by low (high) volatility. This could indicate volatility clustering, which will be looked into in more detail during the residual diagnostic. Note that for the rest of this report when reffering to the data set, we mean the data set with first difference."
      ]
    },
    {
      "cell_type": "markdown",
      "metadata": {
        "id": "x6Dd6K1xOaWE"
      },
      "source": [
        "### Investigating Autocorrelation"
      ]
    },
    {
      "cell_type": "markdown",
      "metadata": {
        "id": "HwR5WdY1VlJU"
      },
      "source": [
        "The next step is to investicate whether the data has autocorrelation and partial autocorrelation. We do this by plotting ACF and PACF curves. Starting with ACF curve. ACF curves show the pearson correlation of a time series with its past values, including indirect effects."
      ]
    },
    {
      "cell_type": "code",
      "execution_count": 21,
      "metadata": {
        "id": "puVQkrSTOfIS"
      },
      "outputs": [
        {
          "name": "stdout",
          "output_type": "stream",
          "text": [
            "Lag 1: ACF = -0.038\n",
            "Lag 2: ACF = 0.030\n",
            "Lag 3: ACF = 0.025\n",
            "Lag 6: ACF = -0.056\n",
            "Lag 12: ACF = -0.032\n",
            "Lag 15: ACF = 0.029\n",
            "Lag 19: ACF = -0.038\n",
            "Lag 23: ACF = 0.040\n",
            "Lag 24: ACF = -0.031\n",
            "Lag 25: ACF = 0.026\n",
            "Lag 26: ACF = 0.023\n",
            "Lag 30: ACF = 0.025\n",
            "Lag 32: ACF = -0.030\n",
            "Lag 33: ACF = -0.021\n",
            "Lag 34: ACF = 0.035\n",
            "Lag 35: ACF = 0.034\n",
            "Lag 38: ACF = 0.026\n",
            "Lag 53: ACF = 0.035\n",
            "Lag 56: ACF = 0.027\n",
            "Lag 57: ACF = -0.022\n",
            "Lag 69: ACF = -0.023\n",
            "Lag 74: ACF = -0.023\n",
            "Lag 75: ACF = 0.030\n"
          ]
        },
        {
          "data": {
            "image/png": "[encoded data removed]",
            "text/plain": [
              "<Figure size 432x288 with 1 Axes>"
            ]
          },
          "metadata": {
            "needs_background": "light"
          },
          "output_type": "display_data"
        }
      ],
      "source": [
        "# Compute ACF\n",
        "acf_vals = acf(df_first_diff['close_diff'].dropna(), nlags=75, fft=True)[1:]\n",
        "lags = np.arange(1, len(acf_vals) + 1)\n",
        "\n",
        "# 95% confidence interval\n",
        "conf_int = 1.96 / np.sqrt(len(df_first_diff['close_diff'].dropna()))\n",
        "\n",
        "# Finding significant lags\n",
        "significant_mask = (acf_vals > conf_int) | (acf_vals < -conf_int)\n",
        "significant_lags = lags[significant_mask]\n",
        "significant_acfs = acf_vals[significant_mask]\n",
        "\n",
        "# Printing significant lags and values\n",
        "for lag, val in zip(significant_lags, significant_acfs):\n",
        "    print(f\"Lag {lag}: ACF = {val:.3f}\")\n",
        "\n",
        "# Plotting ACF curve\n",
        "plt.stem(lags, acf_vals)\n",
        "plt.axhline(0, linestyle='--', color='gray')\n",
        "plt.axhline(conf_int, linestyle='--', color='red')\n",
        "plt.axhline(-conf_int, linestyle='--', color='red')\n",
        "plt.title('ACF')\n",
        "plt.xlabel('Lag')\n",
        "plt.ylabel('Autocorrelation')\n",
        "plt.show()"
      ]
    },
    {
      "cell_type": "markdown",
      "metadata": {
        "id": "LZ9ZhPpcWfyr"
      },
      "source": [
        "The plot demonstrates that the data exhibits autocorrelation, with lags 1, 6, 19 and 23 being the most significant. We then plot a PACF curve. PACF removes all indirect effects and shows the direct effect of past values on the time series."
      ]
    },
    {
      "cell_type": "code",
      "execution_count": 22,
      "metadata": {
        "id": "2pueIRsFXPVo"
      },
      "outputs": [
        {
          "name": "stdout",
          "output_type": "stream",
          "text": [
            "Lag 1: ACF = -0.038\n",
            "Lag 2: ACF = 0.029\n",
            "Lag 3: ACF = 0.027\n",
            "Lag 6: ACF = -0.057\n",
            "Lag 12: ACF = -0.033\n",
            "Lag 15: ACF = 0.030\n",
            "Lag 19: ACF = -0.036\n",
            "Lag 23: ACF = 0.041\n",
            "Lag 24: ACF = -0.031\n",
            "Lag 26: ACF = 0.023\n",
            "Lag 30: ACF = 0.022\n",
            "Lag 32: ACF = -0.027\n",
            "Lag 33: ACF = -0.024\n",
            "Lag 34: ACF = 0.038\n",
            "Lag 35: ACF = 0.046\n",
            "Lag 37: ACF = -0.021\n",
            "Lag 41: ACF = 0.021\n",
            "Lag 53: ACF = 0.036\n",
            "Lag 56: ACF = 0.024\n",
            "Lag 57: ACF = -0.022\n",
            "Lag 69: ACF = -0.025\n",
            "Lag 75: ACF = 0.026\n"
          ]
        },
        {
          "data": {
            "image/png": "[encoded data removed]",
            "text/plain": [
              "<Figure size 432x288 with 1 Axes>"
            ]
          },
          "metadata": {
            "needs_background": "light"
          },
          "output_type": "display_data"
        }
      ],
      "source": [
        "pacf_vals = pacf(df_first_diff['close_diff'].dropna(), nlags=75)\n",
        "lags = np.arange(1, len(acf_vals) + 1)\n",
        "pacf_vals = pacf_vals[1:]\n",
        "\n",
        "# Find significant lags\n",
        "significant_mask = (pacf_vals > conf_int) | (pacf_vals < -conf_int)\n",
        "significant_lags = lags[significant_mask]\n",
        "significant_pacfs = pacf_vals[significant_mask]\n",
        "\n",
        "# Print significant lags and values\n",
        "for lag, val in zip(significant_lags, significant_pacfs):\n",
        "    print(f\"Lag {lag}: ACF = {val:.3f}\")\n",
        "\n",
        "plt.stem(lags, pacf_vals)\n",
        "plt.axhline(0, linestyle='--', color='gray')\n",
        "plt.axhline(conf_int, linestyle='--', color='red')\n",
        "plt.axhline(-conf_int, linestyle='--', color='red')\n",
        "plt.title('PACF')\n",
        "plt.xlabel('Lag')\n",
        "plt.ylabel('Partial Autocorrelation')\n",
        "plt.show()\n"
      ]
    },
    {
      "cell_type": "markdown",
      "metadata": {
        "id": "YZuZxBrjZa4j"
      },
      "source": [
        "The PACF plot is very similar to the ACF plot and demonstrates that the timeseries also exhibits partial autocorrelation. Lags 1, 6, 23 and 35 are most significant.\n",
        "\n",
        "In summary the plots show many small, but statisitcally significant spikes, most of them being negative. The large sample size (~9000 data points) is making even small autocorrelations and partial autocorrelations statistically significant. However, none of the spikes are especially large, with the most significant value for both ACF and PACF lying around -0.06. This implies very weak autocorrelation and partial autocorrelation."
      ]
    },
    {
      "cell_type": "markdown",
      "metadata": {
        "id": "VVBA17tscAAO"
      },
      "source": [
        "### ARIMA models"
      ]
    },
    {
      "cell_type": "markdown",
      "metadata": {
        "id": "_TK0KwPXb2Df"
      },
      "source": [
        "The next step is to fit various ARIMA models to the data and select the best one. We have discovered that the data exhibits autocorrealation, but due to very small correlation values, we begin with simple ARIMA models. We fear that using too complex models will result in overfitting due to the small autocorrelation values.\n",
        "\n",
        "We use the python library `pmdarima` to search through different orders of the ARIMA model and return the one with the best Akaike Information Criterion (AIC). We search through *p*- and *q*-values ranging from 0-5. The *d* is set to 1 so that the model internally takes the first difference as concluded in the stationarity section."
      ]
    },
    {
      "cell_type": "code",
      "execution_count": 25,
      "metadata": {
        "id": "mDxT0myKgZ19"
      },
      "outputs": [
        {
          "name": "stdout",
          "output_type": "stream",
          "text": [
            "Performing stepwise search to minimize aic\n",
            " ARIMA(2,1,2)(0,0,0)[0] intercept   : AIC=136755.303, Time=3.50 sec\n",
            " ARIMA(0,1,0)(0,0,0)[0] intercept   : AIC=136795.662, Time=0.15 sec\n",
            " ARIMA(1,1,0)(0,0,0)[0] intercept   : AIC=136784.530, Time=0.31 sec\n",
            " ARIMA(0,1,1)(0,0,0)[0] intercept   : AIC=136785.282, Time=0.28 sec\n",
            " ARIMA(0,1,0)(0,0,0)[0]             : AIC=136794.349, Time=0.07 sec\n",
            " ARIMA(1,1,2)(0,0,0)[0] intercept   : AIC=136777.456, Time=1.11 sec\n",
            " ARIMA(2,1,1)(0,0,0)[0] intercept   : AIC=136778.830, Time=2.23 sec\n",
            " ARIMA(3,1,2)(0,0,0)[0] intercept   : AIC=136777.750, Time=2.45 sec\n",
            " ARIMA(2,1,3)(0,0,0)[0] intercept   : AIC=136743.412, Time=5.97 sec\n",
            " ARIMA(1,1,3)(0,0,0)[0] intercept   : AIC=136766.582, Time=3.45 sec\n",
            " ARIMA(3,1,3)(0,0,0)[0] intercept   : AIC=136759.360, Time=6.62 sec\n",
            " ARIMA(2,1,4)(0,0,0)[0] intercept   : AIC=136744.718, Time=14.48 sec\n",
            " ARIMA(1,1,4)(0,0,0)[0] intercept   : AIC=136765.491, Time=8.29 sec\n",
            " ARIMA(3,1,4)(0,0,0)[0] intercept   : AIC=136739.044, Time=13.52 sec\n",
            " ARIMA(4,1,4)(0,0,0)[0] intercept   : AIC=136736.729, Time=16.21 sec\n",
            " ARIMA(4,1,3)(0,0,0)[0] intercept   : AIC=136738.180, Time=4.87 sec\n",
            " ARIMA(5,1,4)(0,0,0)[0] intercept   : AIC=136738.689, Time=18.15 sec\n",
            " ARIMA(4,1,5)(0,0,0)[0] intercept   : AIC=136739.009, Time=28.34 sec\n",
            " ARIMA(3,1,5)(0,0,0)[0] intercept   : AIC=136758.110, Time=14.06 sec\n",
            " ARIMA(5,1,3)(0,0,0)[0] intercept   : AIC=136737.865, Time=18.51 sec\n",
            " ARIMA(5,1,5)(0,0,0)[0] intercept   : AIC=136735.642, Time=21.30 sec\n",
            " ARIMA(5,1,5)(0,0,0)[0]             : AIC=136732.975, Time=8.63 sec\n",
            " ARIMA(4,1,5)(0,0,0)[0]             : AIC=136737.454, Time=8.04 sec\n",
            " ARIMA(5,1,4)(0,0,0)[0]             : AIC=136737.142, Time=6.94 sec\n",
            " ARIMA(4,1,4)(0,0,0)[0]             : AIC=136735.779, Time=6.26 sec\n",
            "\n",
            "Best model:  ARIMA(5,1,5)(0,0,0)[0]          \n",
            "Total fit time: 213.754 seconds\n",
            "                               SARIMAX Results                                \n",
            "==============================================================================\n",
            "Dep. Variable:                      y   No. Observations:                 8999\n",
            "Model:               SARIMAX(5, 1, 5)   Log Likelihood              -68355.487\n",
            "Date:                Sat, 05 Apr 2025   AIC                         136732.975\n",
            "Time:                        09:54:04   BIC                         136811.127\n",
            "Sample:                    01-01-2020   HQIC                        136759.568\n",
            "                         - 02-08-2024                                         \n",
            "Covariance Type:                  opg                                         \n",
            "==============================================================================\n",
            "                 coef    std err          z      P>|z|      [0.025      0.975]\n",
            "------------------------------------------------------------------------------\n",
            "ar.L1          0.3422      0.106      3.241      0.001       0.135       0.549\n",
            "ar.L2          0.1641      0.047      3.477      0.001       0.072       0.257\n",
            "ar.L3         -0.1774      0.030     -5.843      0.000      -0.237      -0.118\n",
            "ar.L4         -0.5740      0.046    -12.535      0.000      -0.664      -0.484\n",
            "ar.L5          0.6729      0.090      7.501      0.000       0.497       0.849\n",
            "ma.L1         -0.3729      0.103     -3.613      0.000      -0.575      -0.171\n",
            "ma.L2         -0.1285      0.045     -2.862      0.004      -0.217      -0.041\n",
            "ma.L3          0.1927      0.032      6.084      0.000       0.131       0.255\n",
            "ma.L4          0.5450      0.048     11.354      0.000       0.451       0.639\n",
            "ma.L5         -0.6969      0.087     -8.002      0.000      -0.868      -0.526\n",
            "sigma2      2.338e+05   1258.471    185.789      0.000    2.31e+05    2.36e+05\n",
            "===================================================================================\n",
            "Ljung-Box (L1) (Q):                   0.58   Jarque-Bera (JB):             79533.59\n",
            "Prob(Q):                              0.45   Prob(JB):                         0.00\n",
            "Heteroskedasticity (H):               0.26   Skew:                            -0.42\n",
            "Prob(H) (two-sided):                  0.00   Kurtosis:                        17.54\n",
            "===================================================================================\n",
            "\n",
            "Warnings:\n",
            "[1] Covariance matrix calculated using the outer product of gradients (complex-step).\n",
            "AIC: 136732.97495477798\n"
          ]
        }
      ],
      "source": [
        "# We use Auto ARIMA to find the best order with p and q ranging from 0 to 10\n",
        "sample_model = pm.auto_arima(df_first_diff['Close'].dropna(),\n",
        "                             d = 1,\n",
        "                             seasonal=False,\n",
        "                             stepwise=True,\n",
        "                             trace=True,\n",
        "                             max_p=5,\n",
        "                             max_q=5)\n",
        "print(sample_model.summary())\n",
        "# We can also use the AIC to find the best order\n",
        "print(f\"AIC: {sample_model.aic()}\")"
      ]
    },
    {
      "cell_type": "markdown",
      "metadata": {
        "id": "cSvb-AMpgvfg"
      },
      "source": [
        "The optimal order found is ARIMA(5,1,5) with an AIC equal to 136733. ARIMA(4,1,4) performs slightly worse, but is still plausible with an AIC value of 136736. We then fit an ARIMA(5,1,5) model for further investigations."
      ]
    },
    {
      "cell_type": "code",
      "execution_count": 28,
      "metadata": {
        "id": "gigMTBmbiBKp"
      },
      "outputs": [
        {
          "name": "stderr",
          "output_type": "stream",
          "text": [
            "/Users/philipmaurstaduv/opt/anaconda3/lib/python3.9/site-packages/statsmodels/tsa/base/tsa_model.py:471: ValueWarning: No frequency information was provided, so inferred frequency 4h will be used.\n",
            "  self._init_dates(dates, freq)\n",
            "/Users/philipmaurstaduv/opt/anaconda3/lib/python3.9/site-packages/statsmodels/tsa/base/tsa_model.py:471: ValueWarning: No frequency information was provided, so inferred frequency 4h will be used.\n",
            "  self._init_dates(dates, freq)\n",
            "/Users/philipmaurstaduv/opt/anaconda3/lib/python3.9/site-packages/statsmodels/tsa/base/tsa_model.py:471: ValueWarning: No frequency information was provided, so inferred frequency 4h will be used.\n",
            "  self._init_dates(dates, freq)\n",
            "/Users/philipmaurstaduv/opt/anaconda3/lib/python3.9/site-packages/statsmodels/base/model.py:604: ConvergenceWarning: Maximum Likelihood optimization failed to converge. Check mle_retvals\n",
            "  warnings.warn(\"Maximum Likelihood optimization failed to \"\n"
          ]
        },
        {
          "name": "stdout",
          "output_type": "stream",
          "text": [
            "                               SARIMAX Results                                \n",
            "==============================================================================\n",
            "Dep. Variable:                  Close   No. Observations:                 8999\n",
            "Model:                 ARIMA(5, 1, 5)   Log Likelihood              -68355.487\n",
            "Date:                Sat, 05 Apr 2025   AIC                         136732.975\n",
            "Time:                        09:57:40   BIC                         136811.127\n",
            "Sample:                    01-01-2020   HQIC                        136759.568\n",
            "                         - 02-08-2024                                         \n",
            "Covariance Type:                  opg                                         \n",
            "==============================================================================\n",
            "                 coef    std err          z      P>|z|      [0.025      0.975]\n",
            "------------------------------------------------------------------------------\n",
            "ar.L1          0.3422      0.106      3.241      0.001       0.135       0.549\n",
            "ar.L2          0.1641      0.047      3.477      0.001       0.072       0.257\n",
            "ar.L3         -0.1774      0.030     -5.843      0.000      -0.237      -0.118\n",
            "ar.L4         -0.5740      0.046    -12.535      0.000      -0.664      -0.484\n",
            "ar.L5          0.6729      0.090      7.501      0.000       0.497       0.849\n",
            "ma.L1         -0.3729      0.103     -3.613      0.000      -0.575      -0.171\n",
            "ma.L2         -0.1285      0.045     -2.862      0.004      -0.217      -0.041\n",
            "ma.L3          0.1927      0.032      6.084      0.000       0.131       0.255\n",
            "ma.L4          0.5450      0.048     11.354      0.000       0.451       0.639\n",
            "ma.L5         -0.6969      0.087     -8.002      0.000      -0.868      -0.526\n",
            "sigma2      2.338e+05   1258.471    185.789      0.000    2.31e+05    2.36e+05\n",
            "===================================================================================\n",
            "Ljung-Box (L1) (Q):                   0.58   Jarque-Bera (JB):             79533.59\n",
            "Prob(Q):                              0.45   Prob(JB):                         0.00\n",
            "Heteroskedasticity (H):               0.26   Skew:                            -0.42\n",
            "Prob(H) (two-sided):                  0.00   Kurtosis:                        17.54\n",
            "===================================================================================\n",
            "\n",
            "Warnings:\n",
            "[1] Covariance matrix calculated using the outer product of gradients (complex-step).\n"
          ]
        }
      ],
      "source": [
        "model = ARIMA(btc_train['Close'], order=(5,1,5))\n",
        "arima_results = model.fit()\n",
        "print(arima_results.summary())\n"
      ]
    },
    {
      "cell_type": "markdown",
      "metadata": {
        "id": "legwuT8z2MFK"
      },
      "source": [
        "The output of the ARIMA models shows several interesting aspects. Firstly, all coefficients are statistically significant. Secondly, the Ljung-Box test performed on the fitted model has a p-value equal to 0.36, meaning that there is no significant statistical evidence to reject the null hypothesis. Hence, we can conclude that there is no autocorrelation in the residuals, meaning that the model has managed to explain the correlation in the data. The summary also shows the results of an ARCH test to test for heteroskedasticity. The test result shows strong evidence of heteroskedasticity, which needs to be taken care of. Lastly, the Jarque-Bera (JB) test shows evidence of non-normal residuals. The skew and kurtosis further suggest a heavy left tail and extremely fat tails, confirming the results form the JB test. In summary, heteroskedastic and fat-tailed residuals suggest that the ARIMA model alone is not sufficient to model BTC/USD returns, and that some volatility measure is necessary."
      ]
    },
    {
      "cell_type": "markdown",
      "metadata": {
        "id": "s9tM0uUBAPA0"
      },
      "source": [
        "### Volatility Measure"
      ]
    },
    {
      "cell_type": "markdown",
      "metadata": {
        "id": "S7GviyOkAzAo"
      },
      "source": [
        "Volatility measure is a important attribute to investigate when searching for optimal trading strategies. Most of the buy/sell indicators requires info on market volatility conditions to avoid taking risky trading decisions. When the bitcoin market is highly volatile, the risk increases too. We have already ideentified that the residuals of the ARIMA(5,1,5) model is heteroskedastic with fat tails. Consequently, ARIMA alone may not be sufficient to develop a trading strategy. To cacluate volatility trends and predict volatility we used the GARCH-t and HAR models respectively."
      ]
    },
    {
      "cell_type": "code",
      "execution_count": 4,
      "metadata": {
        "id": "EHKs0Q5RcfQH"
      },
      "outputs": [],
      "source": [
        "#btc_data = pd.read_csv('BTCUSDT_1d_all_data.csv')\n",
        "#btc_data['Open Time'] = pd.to_datetime(btc_data['Open Time'])\n",
        "#btc_data.set_index('Open Time', inplace=True)\n",
        "#btc_data.sort_index(inplace=True)\n",
        "\n",
        "\n",
        "btc_train['Returns'] = btc_train['Close'].pct_change().dropna()\n",
        "btc_train.dropna(subset=['Returns'], inplace=True)\n",
        "scaled_returns = btc_train['Returns'] * 100"
      ]
    },
    {
      "cell_type": "markdown",
      "metadata": {
        "id": "dhH9MYxyEa3A"
      },
      "source": [
        "First we applied GARCH(1,1) with Student's t-distributed errors. This distribution was used due to the non-normal residual characteristics identified earlier. A GARCH($p$, $q$) model consists of two main components:\n",
        "\n",
        "\n",
        "1.   A mean equation, which models the return as a function of past information. In our case an ARIMA(2,1,1) model:\n",
        "  \n",
        "\n",
        "  <center>$\\Delta y_t = \\mu + \\phi_1 \\Delta y_{t-1} + \\phi_2 \\Delta y_{t-2} + \\theta_1 \\epsilon_{t-1} + \\epsilon_t$ </center>\n",
        "  \n",
        "  2. A variance equation, which specifies how the conditional variance $\\sigma_t^2$ evolves over time:\n",
        "  <center>$\\sigma_t^2 = \\omega + \\sum_{i=1}^{q} \\alpha_i \\epsilon_{t-i}^2 + \\sum_{j=1}^{p} \\beta_j \\sigma_{t-j}^2$</center>\n",
        "\n",
        "We fitted a GARCH(1,1) model to the residuals.\n"
      ]
    },
    {
      "cell_type": "code",
      "execution_count": 29,
      "metadata": {
        "id": "WoyIsBIlaMYq"
      },
      "outputs": [
        {
          "name": "stdout",
          "output_type": "stream",
          "text": [
            "                        Constant Mean - GARCH Model Results                         \n",
            "====================================================================================\n",
            "Dep. Variable:                         None   R-squared:                       0.000\n",
            "Mean Model:                   Constant Mean   Adj. R-squared:                  0.000\n",
            "Vol Model:                            GARCH   Log-Likelihood:               -62940.9\n",
            "Distribution:      Standardized Student's t   AIC:                           125892.\n",
            "Method:                  Maximum Likelihood   BIC:                           125927.\n",
            "                                              No. Observations:                 8999\n",
            "Date:                      Sat, Apr 05 2025   Df Residuals:                     8998\n",
            "Time:                              09:57:42   Df Model:                            1\n",
            "                               Mean Model                               \n",
            "========================================================================\n",
            "                 coef    std err          t      P>|t|  95.0% Conf. Int.\n",
            "------------------------------------------------------------------------\n",
            "mu             3.7619      1.156      3.254  1.137e-03 [  1.496,  6.028]\n",
            "                              Volatility Model                              \n",
            "============================================================================\n",
            "                 coef    std err          t      P>|t|      95.0% Conf. Int.\n",
            "----------------------------------------------------------------------------\n",
            "omega         89.9080     33.747      2.664  7.718e-03   [ 23.765,1.561e+02]\n",
            "alpha[1]       0.0622  4.714e-03     13.206  8.150e-40 [5.301e-02,7.148e-02]\n",
            "beta[1]        0.9378  5.998e-03    156.354      0.000     [  0.926,  0.950]\n",
            "                              Distribution                              \n",
            "========================================================================\n",
            "                 coef    std err          t      P>|t|  95.0% Conf. Int.\n",
            "------------------------------------------------------------------------\n",
            "nu             3.1674  6.978e-02     45.389      0.000 [  3.031,  3.304]\n",
            "========================================================================\n",
            "\n",
            "Covariance estimator: robust\n"
          ]
        },
        {
          "name": "stderr",
          "output_type": "stream",
          "text": [
            "/Users/philipmaurstaduv/opt/anaconda3/lib/python3.9/site-packages/arch/univariate/base.py:309: DataScaleWarning: y is poorly scaled, which may affect convergence of the optimizer when\n",
            "estimating the model parameters. The scale of y is 2.38e+05. Parameter\n",
            "estimation work better when this value is between 1 and 1000. The recommended\n",
            "rescaling is 0.1 * y.\n",
            "\n",
            "This warning can be disabled by either rescaling y before initializing the\n",
            "model or by setting rescale=False.\n",
            "\n",
            "  warnings.warn(\n"
          ]
        }
      ],
      "source": [
        "garch_model = arch_model(arima_results.resid, vol='Garch', p=1, q=1, dist='t')\n",
        "garch_results = garch_model.fit(disp=\"off\")\n",
        "print(garch_results.summary())\n"
      ]
    },
    {
      "cell_type": "markdown",
      "metadata": {
        "id": "R0JBIQ9Xa33d"
      },
      "source": [
        "The results show that all coefficients are statistically significant. The residuals still have a slightly positive mean (μ = 3.76). The α coefficient measures the impact of recent shocks. A value of 0.0622 demonstrates an positive relationship to recent shocks and indicates that ~6% of todays volatility can be explained by the most recent shock. This coefficient is higly significant, providing evidence that there is short-term volatility reaction to news in the BTC/USD market.\n",
        "\n",
        "The β coefficient measures volatility persistence, describing how long it takes for volatility to die out. A β of 0.9378 suggests extremely persistent volatility. Furthermore, the fact that α + β ≈ 1 suggests strong volatility clustering as suggested by the plot earlier. This suggests that shocks to volatility in the BTC/USD market take a long time to decay."
      ]
    },
    {
      "cell_type": "markdown",
      "metadata": {
        "id": "9wi0rUJIE9PJ"
      },
      "source": [
        "Next we apply HAR to predict volatility:"
      ]
    },
    {
      "cell_type": "code",
      "execution_count": 30,
      "metadata": {
        "id": "o1N9xnl-FMol"
      },
      "outputs": [
        {
          "name": "stderr",
          "output_type": "stream",
          "text": [
            "/var/folders/72/z32mg6zj7ms4yb4k2v3wljd40000gn/T/ipykernel_89612/2431935487.py:11: SettingWithCopyWarning: \n",
            "A value is trying to be set on a copy of a slice from a DataFrame.\n",
            "Try using .loc[row_indexer,col_indexer] = value instead\n",
            "\n",
            "See the caveats in the documentation: https://pandas.pydata.org/pandas-docs/stable/user_guide/indexing.html#returning-a-view-versus-a-copy\n",
            "  X_har['Constant'] = 1\n"
          ]
        },
        {
          "name": "stdout",
          "output_type": "stream",
          "text": [
            "\n",
            "HAR Model Summary:\n",
            "                            OLS Regression Results                            \n",
            "==============================================================================\n",
            "Dep. Variable:               RV_Daily   R-squared:                       0.623\n",
            "Model:                            OLS   Adj. R-squared:                  0.623\n",
            "Method:                 Least Squares   F-statistic:                     4939.\n",
            "Date:                Sat, 05 Apr 2025   Prob (F-statistic):               0.00\n",
            "Time:                        10:00:56   Log-Likelihood:                -9262.0\n",
            "No. Observations:                8977   AIC:                         1.853e+04\n",
            "Df Residuals:                    8973   BIC:                         1.856e+04\n",
            "Df Model:                           3                                         \n",
            "Covariance Type:            nonrobust                                         \n",
            "==============================================================================\n",
            "                 coef    std err          t      P>|t|      [0.025      0.975]\n",
            "------------------------------------------------------------------------------\n",
            "RV_Daily     961.4114      8.638    111.295      0.000     944.478     978.345\n",
            "RV_Weekly     12.4794     18.648      0.669      0.503     -24.075      49.033\n",
            "RV_Monthly   504.7750     29.494     17.115      0.000     446.961     562.589\n",
            "Constant       0.5842      0.009     67.873      0.000       0.567       0.601\n",
            "==============================================================================\n",
            "Omnibus:                    10168.881   Durbin-Watson:                   1.730\n",
            "Prob(Omnibus):                  0.000   Jarque-Bera (JB):         11739255.595\n",
            "Skew:                          -4.949   Prob(JB):                         0.00\n",
            "Kurtosis:                     179.881   Cond. No.                     4.45e+03\n",
            "==============================================================================\n",
            "\n",
            "Notes:\n",
            "[1] Standard Errors assume that the covariance matrix of the errors is correctly specified.\n",
            "[2] The condition number is large, 4.45e+03. This might indicate that there are\n",
            "strong multicollinearity or other numerical problems.\n"
          ]
        },
        {
          "data": {
            "image/png": "[encoded data removed]",
            "text/plain": [
              "<Figure size 864x432 with 1 Axes>"
            ]
          },
          "metadata": {
            "needs_background": "light"
          },
          "output_type": "display_data"
        }
      ],
      "source": [
        "btc_train['RV_Daily'] = btc_train['Returns']**2\n",
        "btc_train['RV_Weekly'] = btc_train['RV_Daily'].rolling(window=5).mean().shift(1)\n",
        "btc_train['RV_Monthly'] = btc_train['RV_Daily'].rolling(window=22).mean().shift(1)\n",
        "\n",
        "btc_data_har = btc_train.dropna()\n",
        "\n",
        "import statsmodels.api as sm\n",
        "\n",
        "y_har = np.sqrt(btc_data_har['RV_Daily']) * 100 # Predict daily volatility\n",
        "X_har = btc_data_har[['RV_Daily', 'RV_Weekly', 'RV_Monthly']]\n",
        "X_har['Constant'] = 1\n",
        "\n",
        "model_har = sm.OLS(y_har, X_har)\n",
        "results_har = model_har.fit()\n",
        "\n",
        "print(\"\\nHAR Model Summary:\")\n",
        "print(results_har.summary())\n",
        "\n",
        "plt.figure(figsize=(12, 6))\n",
        "plt.plot(y_har.index, y_har, label='Daily Volatility (Actual)')\n",
        "plt.plot(y_har.index, results_har.fittedvalues, label='Daily Volatility (HAR Predicted)')\n",
        "plt.title('BTC/USD Daily Volatility vs. HAR Model Prediction')\n",
        "plt.xlabel('Date')\n",
        "plt.ylabel('Volatility (%)')\n",
        "plt.legend()\n",
        "plt.grid(True)\n",
        "plt.show()"
      ]
    },
    {
      "cell_type": "markdown",
      "metadata": {
        "id": "Glr4KJloWAVF"
      },
      "source": [
        "Inferences from HAR:\n",
        "\n",
        "RV_Daily (961.4114):\n",
        "This high and significant coefficient indicates that the most recent day’s volatility has a strong direct influence on current volatility.\n",
        "\n",
        "RV_Weekly (12.4794):\n",
        "A positive coefficient, suggesting that the average volatility over the past week also contributes to the current day’s volatility, albeit with a smaller magnitude. However, the coefficient is not statistically significant.\n",
        "\n",
        "RV_Monthly (504.7750):\n",
        "This coefficinet is large and significant, indicating that longer-term volatility (over a month) plays an important role.\n",
        "\n",
        "R-squared = 0.623:\n",
        "About 62% of the variation in daily volatility is explained by the model, which is a decent fit.\n",
        "\n",
        "The HAR model confirms that short-term (daily) volatility has the strongest influence on current volatility, but medium-term (monthly) and volatilities also matter. The medium high R-squared suggests that these historical measures capture a substantial part of the variance in current volatility."
      ]
    },
    {
      "cell_type": "markdown",
      "metadata": {
        "id": "wOuVe7NdXVVo"
      },
      "source": [
        "### Market Entry/Exit Indicators"
      ]
    },
    {
      "cell_type": "markdown",
      "metadata": {
        "id": "nUriynOIctCP"
      },
      "source": [
        "The following two approaches were used to indicate market entry or exit:\n",
        "\n",
        "1. ML Based: ARIMA, CatBoost, LightGBM, XGBoost and ensebmle of later three were experimented to predict return % after nth day at a particular time stamp. If the return would be negative, it would indicate market exit, if return would be positive, it would indicate a market entry.\n",
        "\n",
        "2. Stastistical Based: Moving average based indicators like SMA, EMA, Hull MA etc were investigated. At each time stamp a slow MA (averaging over longer/more past days) and a fast MA (averaging over small number of past days) is calculated. If fast MA > slow MA, it indicates market entry and market exit would be indicated if otherwise."
      ]
    },
    {
      "cell_type": "markdown",
      "metadata": {
        "id": "dcWsIa54mY5O"
      },
      "source": [
        "### Emprirical Analysis Conclusion\n",
        "\n",
        "The following conclusions could be made about BTC/USD marked by our analysis:\n",
        "\n",
        "1. BTC has stable movements with fewer extreme fluctuations, resulting in overall lower but persistant volatility.\n",
        "\n",
        "2. Presence of heteroscedasticity and weak autocorrelation and partial autocorrelation.\n",
        "\n",
        "3. BTC exhibits more predictable trend driven movement characterized by extended uptrends or downtrends. Hence trend based strategies may be well suited.\n",
        "\n",
        "4. Indicators based on moving averages may lead to inaccurate decisions in durations of highly choppy market."
      ]
    },
    {
      "cell_type": "markdown",
      "metadata": {
        "id": "puxWo9mn_1K6"
      },
      "source": [
        "## Trading Strategy"
      ]
    },
    {
      "cell_type": "markdown",
      "metadata": {
        "id": "PWdG2FL5Wz9R"
      },
      "source": [
        "An easier overview of our trading strategy can be explained in the following way:\n",
        "\n",
        "![Trading_Strat](strategy_chart.png)\n",
        "\n",
        "At every time stamp in our data we first decide weather to trade or not, and if yes, we check the market indicators to make a decision to enter/exit the market. To keep things simple, \"Buy\" means buying all BTC with current available USD portfolio, and \"Sell\" means selling all BTC.\n",
        "\n",
        "Multiple trading models and strategies were tried, and they could be broadly classified into two:\n",
        "\n",
        "1. ML Based: The ML models were required to predict trade decision and market entry/exit conditions, the following two were tried:\n",
        "        1. ARIMA\n",
        "        2. Ensemble of CatBoost, LightGBM, XGBoost\n",
        "\n",
        "2. Statistics Based: Moving average indicators were used to judge market entry/exit conditions and were paired with volatility estimators to detect choppy market conditions.\n"
      ]
    },
    {
      "cell_type": "markdown",
      "metadata": {
        "id": "4sdOTTLql6-R"
      },
      "source": [
        "### ARIMA Based"
      ]
    },
    {
      "cell_type": "markdown",
      "metadata": {
        "id": "86ACs24uvWAO"
      },
      "source": [
        "We start by plotting the predicted and actual BTC/USD closing prices."
      ]
    },
    {
      "cell_type": "code",
      "execution_count": 33,
      "metadata": {
        "id": "mmq6ljFimpSl"
      },
      "outputs": [
        {
          "data": {
            "image/png": "[encoded data removed]",
            "text/plain": [
              "<Figure size 864x432 with 1 Axes>"
            ]
          },
          "metadata": {
            "needs_background": "light"
          },
          "output_type": "display_data"
        }
      ],
      "source": [
        "n_test = len(btc_test)\n",
        "forecast = arima_results.get_forecast(steps=n_test)\n",
        "\n",
        "predicted_mean = forecast.predicted_mean\n",
        "conf_int = forecast.conf_int()\n",
        "\n",
        "predicted_mean.index = btc_test.index\n",
        "conf_int.index = btc_test.index\n",
        "\n",
        "forecast_df = pd.DataFrame({\n",
        "    'actual': btc_test['Close'],\n",
        "    'predicted': predicted_mean,\n",
        "    'lower_ci': conf_int.iloc[:, 0],\n",
        "    'upper_ci': conf_int.iloc[:, 1],\n",
        "})\n",
        "\n",
        "forecast_df['residual'] = forecast_df['actual'] - forecast_df['predicted']\n",
        "\n",
        "plt.figure(figsize=(12,6))\n",
        "plt.plot(btc_test['Close'], label='Training Data')\n",
        "plt.plot(btc_test['Close'], label='Actual Test Data', color='black')\n",
        "plt.plot(predicted_mean, label='ARIMA Forecast', color='orange')\n",
        "plt.fill_between(btc_test.index,\n",
        "                 conf_int.iloc[:, 0],\n",
        "                 conf_int.iloc[:, 1],\n",
        "                 color='orange', alpha=0.2, label='95% Confidence Interval')\n",
        "plt.title('ARIMA Forecast vs Actual BTC Price')\n",
        "plt.xlabel('Time')\n",
        "plt.ylabel('BTC/USD Price')\n",
        "plt.legend()\n",
        "plt.grid()\n",
        "plt.show()"
      ]
    },
    {
      "cell_type": "markdown",
      "metadata": {
        "id": "6nr14m7gvw63"
      },
      "source": [
        "We notice that the ARIMA model's predicitons converges to a flat line around 45200, suggesting that the model has learned that changes in prices are mostly unpredictable and that the current price is the best forecast for the next price. This makes snese in that BTC/USD prices is white noise. Our conclusion is that the ARIMA models works poorly when trying to develop a trading strategy for BTC/USD."
      ]
    },
    {
      "cell_type": "markdown",
      "metadata": {
        "id": "0YUo3yEPvpo3"
      },
      "source": [
        "### Ensembled Models Based\n"
      ]
    },
    {
      "cell_type": "markdown",
      "metadata": {
        "id": "kjeeLAlK4vvU"
      },
      "source": [
        "We used daily historical data for BTC/USDT. The dataset included price and volume data and we added a comprehensive set of 60 technical indicators.The indicators added are the following:\n",
        "\n",
        "![Indicators](indicators.png)\n",
        "\n",
        "The data was split chronologically, with test data as the last 10000 dates, and it could be changed as per the requirement.\n",
        "\n",
        "\n",
        "\n",
        "We ensembled XGBoost, LightGBM, and CatBoost to work on the high dimension data, as these models are capable of handling volatility prediction, no extra Trade Yes/No indicator was used.\n",
        "\n",
        "The ensembled model would predict the reutrn % on nth day and on basis of that trade decision would be made.\n",
        "\n",
        "In our model, we use R² score as the evaluation metric, which is a standard for regression problems.\n",
        "\n",
        " BTC R² Score:-0.40984356957489454\n",
        "\n",
        "As the R² was pretty poor and other strategies was working better, we didnt invest more time in the ensembled model"
      ]
    },
    {
      "cell_type": "code",
      "execution_count": null,
      "metadata": {},
      "outputs": [],
      "source": [
        "!pip install lightgbm==4.2.0 -i https://mirrors.aliyun.com/pypi/simple/\n",
        "!pip install catboost==1.2.7 -i https://mirrors.aliyun.com/pypi/simple/\n",
        "!pip install xgboost==2.0.3 -i https://mirrors.aliyun.com/pypi/simple/\n",
        "!pip install joblib==1.4.2 -i https://mirrors.aliyun.com/pypi/simple/\n",
        "!pip install polars==0.18.3 -i https://mirrors.aliyun.com/pypi/simple/\n",
        "!python ensemble.py"
      ]
    },
    {
      "cell_type": "code",
      "execution_count": 2,
      "metadata": {},
      "outputs": [
        {
          "name": "stderr",
          "output_type": "stream",
          "text": [
            "/Users/philipmaurstaduv/opt/anaconda3/lib/python3.9/site-packages/pandas/core/computation/expressions.py:21: UserWarning: Pandas requires version '2.8.4' or newer of 'numexpr' (version '2.8.1' currently installed).\n",
            "  from pandas.core.computation.check import NUMEXPR_INSTALLED\n",
            "/Users/philipmaurstaduv/opt/anaconda3/lib/python3.9/site-packages/pandas/core/arrays/masked.py:60: UserWarning: Pandas requires version '1.3.6' or newer of 'bottleneck' (version '1.3.4' currently installed).\n",
            "  from pandas.core import (\n"
          ]
        },
        {
          "ename": "AttributeError",
          "evalue": "module 'pandas.core.strings' has no attribute 'StringMethods'",
          "output_type": "error",
          "traceback": [
            "\u001b[0;31m---------------------------------------------------------------------------\u001b[0m",
            "\u001b[0;31mAttributeError\u001b[0m                            Traceback (most recent call last)",
            "Input \u001b[0;32mIn [2]\u001b[0m, in \u001b[0;36m<cell line: 5>\u001b[0;34m()\u001b[0m\n\u001b[1;32m      3\u001b[0m \u001b[38;5;28;01mimport\u001b[39;00m \u001b[38;5;21;01mjoblib\u001b[39;00m\n\u001b[1;32m      4\u001b[0m \u001b[38;5;28;01mimport\u001b[39;00m \u001b[38;5;21;01mpolars\u001b[39;00m \u001b[38;5;28;01mas\u001b[39;00m \u001b[38;5;21;01mpl\u001b[39;00m\n\u001b[0;32m----> 5\u001b[0m \u001b[38;5;28;01mimport\u001b[39;00m \u001b[38;5;21;01mlightgbm\u001b[39;00m \u001b[38;5;28;01mas\u001b[39;00m \u001b[38;5;21;01mlgb\u001b[39;00m\n\u001b[1;32m      6\u001b[0m \u001b[38;5;28;01mimport\u001b[39;00m \u001b[38;5;21;01mxgboost\u001b[39;00m \u001b[38;5;28;01mas\u001b[39;00m \u001b[38;5;21;01mxgb\u001b[39;00m\n\u001b[1;32m      7\u001b[0m \u001b[38;5;28;01mimport\u001b[39;00m \u001b[38;5;21;01mcatboost\u001b[39;00m \u001b[38;5;28;01mas\u001b[39;00m \u001b[38;5;21;01mcbt\u001b[39;00m\n",
            "File \u001b[0;32m~/opt/anaconda3/lib/python3.9/site-packages/lightgbm/__init__.py:8\u001b[0m, in \u001b[0;36m<module>\u001b[0;34m\u001b[0m\n\u001b[1;32m      2\u001b[0m \u001b[38;5;124;03m\"\"\"LightGBM, Light Gradient Boosting Machine.\u001b[39;00m\n\u001b[1;32m      3\u001b[0m \n\u001b[1;32m      4\u001b[0m \u001b[38;5;124;03mContributors: https://github.com/microsoft/LightGBM/graphs/contributors.\u001b[39;00m\n\u001b[1;32m      5\u001b[0m \u001b[38;5;124;03m\"\"\"\u001b[39;00m\n\u001b[1;32m      6\u001b[0m \u001b[38;5;28;01mfrom\u001b[39;00m \u001b[38;5;21;01mpathlib\u001b[39;00m \u001b[38;5;28;01mimport\u001b[39;00m Path\n\u001b[0;32m----> 8\u001b[0m \u001b[38;5;28;01mfrom\u001b[39;00m \u001b[38;5;21;01m.\u001b[39;00m\u001b[38;5;21;01mbasic\u001b[39;00m \u001b[38;5;28;01mimport\u001b[39;00m Booster, Dataset, Sequence, register_logger\n\u001b[1;32m      9\u001b[0m \u001b[38;5;28;01mfrom\u001b[39;00m \u001b[38;5;21;01m.\u001b[39;00m\u001b[38;5;21;01mcallback\u001b[39;00m \u001b[38;5;28;01mimport\u001b[39;00m EarlyStopException, early_stopping, log_evaluation, record_evaluation, reset_parameter\n\u001b[1;32m     10\u001b[0m \u001b[38;5;28;01mfrom\u001b[39;00m \u001b[38;5;21;01m.\u001b[39;00m\u001b[38;5;21;01mengine\u001b[39;00m \u001b[38;5;28;01mimport\u001b[39;00m CVBooster, cv, train\n",
            "File \u001b[0;32m~/opt/anaconda3/lib/python3.9/site-packages/lightgbm/basic.py:21\u001b[0m, in \u001b[0;36m<module>\u001b[0;34m\u001b[0m\n\u001b[1;32m     18\u001b[0m \u001b[38;5;28;01mimport\u001b[39;00m \u001b[38;5;21;01mnumpy\u001b[39;00m \u001b[38;5;28;01mas\u001b[39;00m \u001b[38;5;21;01mnp\u001b[39;00m\n\u001b[1;32m     19\u001b[0m \u001b[38;5;28;01mimport\u001b[39;00m \u001b[38;5;21;01mscipy\u001b[39;00m\u001b[38;5;21;01m.\u001b[39;00m\u001b[38;5;21;01msparse\u001b[39;00m\n\u001b[0;32m---> 21\u001b[0m \u001b[38;5;28;01mfrom\u001b[39;00m \u001b[38;5;21;01m.\u001b[39;00m\u001b[38;5;21;01mcompat\u001b[39;00m \u001b[38;5;28;01mimport\u001b[39;00m (PANDAS_INSTALLED, PYARROW_INSTALLED, arrow_cffi, arrow_is_floating, arrow_is_integer, concat,\n\u001b[1;32m     22\u001b[0m                      dt_DataTable, pa_Array, pa_chunked_array, pa_ChunkedArray, pa_compute, pa_Table,\n\u001b[1;32m     23\u001b[0m                      pd_CategoricalDtype, pd_DataFrame, pd_Series)\n\u001b[1;32m     24\u001b[0m \u001b[38;5;28;01mfrom\u001b[39;00m \u001b[38;5;21;01m.\u001b[39;00m\u001b[38;5;21;01mlibpath\u001b[39;00m \u001b[38;5;28;01mimport\u001b[39;00m find_lib_path\n\u001b[1;32m     26\u001b[0m \u001b[38;5;28;01mif\u001b[39;00m TYPE_CHECKING:\n",
            "File \u001b[0;32m~/opt/anaconda3/lib/python3.9/site-packages/lightgbm/compat.py:155\u001b[0m, in \u001b[0;36m<module>\u001b[0;34m\u001b[0m\n\u001b[1;32m    153\u001b[0m \u001b[38;5;28;01mfrom\u001b[39;00m \u001b[38;5;21;01mdask\u001b[39;00m\u001b[38;5;21;01m.\u001b[39;00m\u001b[38;5;21;01marray\u001b[39;00m \u001b[38;5;28;01mimport\u001b[39;00m from_delayed \u001b[38;5;28;01mas\u001b[39;00m dask_array_from_delayed\n\u001b[1;32m    154\u001b[0m \u001b[38;5;28;01mfrom\u001b[39;00m \u001b[38;5;21;01mdask\u001b[39;00m\u001b[38;5;21;01m.\u001b[39;00m\u001b[38;5;21;01mbag\u001b[39;00m \u001b[38;5;28;01mimport\u001b[39;00m from_delayed \u001b[38;5;28;01mas\u001b[39;00m dask_bag_from_delayed\n\u001b[0;32m--> 155\u001b[0m \u001b[38;5;28;01mfrom\u001b[39;00m \u001b[38;5;21;01mdask\u001b[39;00m\u001b[38;5;21;01m.\u001b[39;00m\u001b[38;5;21;01mdataframe\u001b[39;00m \u001b[38;5;28;01mimport\u001b[39;00m DataFrame \u001b[38;5;28;01mas\u001b[39;00m dask_DataFrame\n\u001b[1;32m    156\u001b[0m \u001b[38;5;28;01mfrom\u001b[39;00m \u001b[38;5;21;01mdask\u001b[39;00m\u001b[38;5;21;01m.\u001b[39;00m\u001b[38;5;21;01mdataframe\u001b[39;00m \u001b[38;5;28;01mimport\u001b[39;00m Series \u001b[38;5;28;01mas\u001b[39;00m dask_Series\n\u001b[1;32m    157\u001b[0m \u001b[38;5;28;01mfrom\u001b[39;00m \u001b[38;5;21;01mdask\u001b[39;00m\u001b[38;5;21;01m.\u001b[39;00m\u001b[38;5;21;01mdistributed\u001b[39;00m \u001b[38;5;28;01mimport\u001b[39;00m Client, Future, default_client, wait\n",
            "File \u001b[0;32m~/opt/anaconda3/lib/python3.9/site-packages/dask/dataframe/__init__.py:3\u001b[0m, in \u001b[0;36m<module>\u001b[0;34m\u001b[0m\n\u001b[1;32m      1\u001b[0m \u001b[38;5;28;01mtry\u001b[39;00m:\n\u001b[1;32m      2\u001b[0m     \u001b[38;5;28;01mfrom\u001b[39;00m \u001b[38;5;21;01m.\u001b[39;00m\u001b[38;5;21;01m.\u001b[39;00m\u001b[38;5;21;01mbase\u001b[39;00m \u001b[38;5;28;01mimport\u001b[39;00m compute\n\u001b[0;32m----> 3\u001b[0m     \u001b[38;5;28;01mfrom\u001b[39;00m \u001b[38;5;21;01m.\u001b[39;00m \u001b[38;5;28;01mimport\u001b[39;00m backends, dispatch, rolling\n\u001b[1;32m      4\u001b[0m     \u001b[38;5;28;01mfrom\u001b[39;00m \u001b[38;5;21;01m.\u001b[39;00m\u001b[38;5;21;01mcore\u001b[39;00m \u001b[38;5;28;01mimport\u001b[39;00m (\n\u001b[1;32m      5\u001b[0m         DataFrame,\n\u001b[1;32m      6\u001b[0m         Index,\n\u001b[0;32m   (...)\u001b[0m\n\u001b[1;32m     12\u001b[0m         to_timedelta,\n\u001b[1;32m     13\u001b[0m     )\n\u001b[1;32m     14\u001b[0m     \u001b[38;5;28;01mfrom\u001b[39;00m \u001b[38;5;21;01m.\u001b[39;00m\u001b[38;5;21;01mgroupby\u001b[39;00m \u001b[38;5;28;01mimport\u001b[39;00m Aggregation\n",
            "File \u001b[0;32m~/opt/anaconda3/lib/python3.9/site-packages/dask/dataframe/backends.py:23\u001b[0m, in \u001b[0;36m<module>\u001b[0;34m\u001b[0m\n\u001b[1;32m     20\u001b[0m \u001b[38;5;28;01mfrom\u001b[39;00m \u001b[38;5;21;01mdask\u001b[39;00m\u001b[38;5;21;01m.\u001b[39;00m\u001b[38;5;21;01msizeof\u001b[39;00m \u001b[38;5;28;01mimport\u001b[39;00m SimpleSizeof, sizeof\n\u001b[1;32m     22\u001b[0m \u001b[38;5;28;01mfrom\u001b[39;00m \u001b[38;5;21;01m.\u001b[39;00m\u001b[38;5;21;01m.\u001b[39;00m\u001b[38;5;21;01mutils\u001b[39;00m \u001b[38;5;28;01mimport\u001b[39;00m is_arraylike, typename\n\u001b[0;32m---> 23\u001b[0m \u001b[38;5;28;01mfrom\u001b[39;00m \u001b[38;5;21;01m.\u001b[39;00m\u001b[38;5;21;01mcore\u001b[39;00m \u001b[38;5;28;01mimport\u001b[39;00m DataFrame, Index, Scalar, Series, _Frame\n\u001b[1;32m     24\u001b[0m \u001b[38;5;28;01mfrom\u001b[39;00m \u001b[38;5;21;01m.\u001b[39;00m\u001b[38;5;21;01mdispatch\u001b[39;00m \u001b[38;5;28;01mimport\u001b[39;00m (\n\u001b[1;32m     25\u001b[0m     categorical_dtype_dispatch,\n\u001b[1;32m     26\u001b[0m     concat,\n\u001b[0;32m   (...)\u001b[0m\n\u001b[1;32m     36\u001b[0m     union_categoricals_dispatch,\n\u001b[1;32m     37\u001b[0m )\n\u001b[1;32m     38\u001b[0m \u001b[38;5;28;01mfrom\u001b[39;00m \u001b[38;5;21;01m.\u001b[39;00m\u001b[38;5;21;01mextensions\u001b[39;00m \u001b[38;5;28;01mimport\u001b[39;00m make_array_nonempty, make_scalar\n",
            "File \u001b[0;32m~/opt/anaconda3/lib/python3.9/site-packages/dask/dataframe/core.py:52\u001b[0m, in \u001b[0;36m<module>\u001b[0;34m\u001b[0m\n\u001b[1;32m     50\u001b[0m \u001b[38;5;28;01mfrom\u001b[39;00m \u001b[38;5;21;01m.\u001b[39;00m \u001b[38;5;28;01mimport\u001b[39;00m methods\n\u001b[1;32m     51\u001b[0m \u001b[38;5;28;01mfrom\u001b[39;00m \u001b[38;5;21;01m.\u001b[39;00m\u001b[38;5;21;01m_compat\u001b[39;00m \u001b[38;5;28;01mimport\u001b[39;00m PANDAS_GT_140, PANDAS_GT_150\n\u001b[0;32m---> 52\u001b[0m \u001b[38;5;28;01mfrom\u001b[39;00m \u001b[38;5;21;01m.\u001b[39;00m\u001b[38;5;21;01maccessor\u001b[39;00m \u001b[38;5;28;01mimport\u001b[39;00m DatetimeAccessor, StringAccessor\n\u001b[1;32m     53\u001b[0m \u001b[38;5;28;01mfrom\u001b[39;00m \u001b[38;5;21;01m.\u001b[39;00m\u001b[38;5;21;01mcategorical\u001b[39;00m \u001b[38;5;28;01mimport\u001b[39;00m CategoricalAccessor, categorize\n\u001b[1;32m     54\u001b[0m \u001b[38;5;28;01mfrom\u001b[39;00m \u001b[38;5;21;01m.\u001b[39;00m\u001b[38;5;21;01mdispatch\u001b[39;00m \u001b[38;5;28;01mimport\u001b[39;00m (\n\u001b[1;32m     55\u001b[0m     get_parallel_type,\n\u001b[1;32m     56\u001b[0m     group_split_dispatch,\n\u001b[1;32m     57\u001b[0m     hash_object_dispatch,\n\u001b[1;32m     58\u001b[0m     meta_nonempty,\n\u001b[1;32m     59\u001b[0m )\n",
            "File \u001b[0;32m~/opt/anaconda3/lib/python3.9/site-packages/dask/dataframe/accessor.py:112\u001b[0m, in \u001b[0;36m<module>\u001b[0;34m\u001b[0m\n\u001b[1;32m    101\u001b[0m \u001b[38;5;250m    \u001b[39m\u001b[38;5;124;03m\"\"\"Accessor object for datetimelike properties of the Series values.\u001b[39;00m\n\u001b[1;32m    102\u001b[0m \n\u001b[1;32m    103\u001b[0m \u001b[38;5;124;03m    Examples\u001b[39;00m\n\u001b[0;32m   (...)\u001b[0m\n\u001b[1;32m    106\u001b[0m \u001b[38;5;124;03m    >>> s.dt.microsecond  # doctest: +SKIP\u001b[39;00m\n\u001b[1;32m    107\u001b[0m \u001b[38;5;124;03m    \"\"\"\u001b[39;00m\n\u001b[1;32m    109\u001b[0m     _accessor_name \u001b[38;5;241m=\u001b[39m \u001b[38;5;124m\"\u001b[39m\u001b[38;5;124mdt\u001b[39m\u001b[38;5;124m\"\u001b[39m\n\u001b[0;32m--> 112\u001b[0m \u001b[38;5;28;01mclass\u001b[39;00m \u001b[38;5;21;01mStringAccessor\u001b[39;00m(Accessor):\n\u001b[1;32m    113\u001b[0m \u001b[38;5;250m    \u001b[39m\u001b[38;5;124;03m\"\"\"Accessor object for string properties of the Series values.\u001b[39;00m\n\u001b[1;32m    114\u001b[0m \n\u001b[1;32m    115\u001b[0m \u001b[38;5;124;03m    Examples\u001b[39;00m\n\u001b[0;32m   (...)\u001b[0m\n\u001b[1;32m    118\u001b[0m \u001b[38;5;124;03m    >>> s.str.lower()  # doctest: +SKIP\u001b[39;00m\n\u001b[1;32m    119\u001b[0m \u001b[38;5;124;03m    \"\"\"\u001b[39;00m\n\u001b[1;32m    121\u001b[0m     _accessor_name \u001b[38;5;241m=\u001b[39m \u001b[38;5;124m\"\u001b[39m\u001b[38;5;124mstr\u001b[39m\u001b[38;5;124m\"\u001b[39m\n",
            "File \u001b[0;32m~/opt/anaconda3/lib/python3.9/site-packages/dask/dataframe/accessor.py:124\u001b[0m, in \u001b[0;36mStringAccessor\u001b[0;34m()\u001b[0m\n\u001b[1;32m    121\u001b[0m _accessor_name \u001b[38;5;241m=\u001b[39m \u001b[38;5;124m\"\u001b[39m\u001b[38;5;124mstr\u001b[39m\u001b[38;5;124m\"\u001b[39m\n\u001b[1;32m    122\u001b[0m _not_implemented \u001b[38;5;241m=\u001b[39m {\u001b[38;5;124m\"\u001b[39m\u001b[38;5;124mget_dummies\u001b[39m\u001b[38;5;124m\"\u001b[39m}\n\u001b[0;32m--> 124\u001b[0m \u001b[38;5;129m@derived_from\u001b[39m(\u001b[43mpd\u001b[49m\u001b[38;5;241;43m.\u001b[39;49m\u001b[43mcore\u001b[49m\u001b[38;5;241;43m.\u001b[39;49m\u001b[43mstrings\u001b[49m\u001b[38;5;241;43m.\u001b[39;49m\u001b[43mStringMethods\u001b[49m)\n\u001b[1;32m    125\u001b[0m \u001b[38;5;28;01mdef\u001b[39;00m \u001b[38;5;21msplit\u001b[39m(\u001b[38;5;28mself\u001b[39m, pat\u001b[38;5;241m=\u001b[39m\u001b[38;5;28;01mNone\u001b[39;00m, n\u001b[38;5;241m=\u001b[39m\u001b[38;5;241m-\u001b[39m\u001b[38;5;241m1\u001b[39m, expand\u001b[38;5;241m=\u001b[39m\u001b[38;5;28;01mFalse\u001b[39;00m):\n\u001b[1;32m    126\u001b[0m     \u001b[38;5;28;01mif\u001b[39;00m expand:\n\u001b[1;32m    127\u001b[0m         \u001b[38;5;28;01mif\u001b[39;00m n \u001b[38;5;241m==\u001b[39m \u001b[38;5;241m-\u001b[39m\u001b[38;5;241m1\u001b[39m:\n",
            "\u001b[0;31mAttributeError\u001b[0m: module 'pandas.core.strings' has no attribute 'StringMethods'"
          ]
        }
      ],
      "source": [
        "# Importing necessary ML libraries\n",
        "import os\n",
        "import joblib\n",
        "import polars as pl\n",
        "import lightgbm as lgb\n",
        "import xgboost as xgb\n",
        "import catboost as cbt\n",
        "from joblib import Parallel, delayed\n",
        "from sklearn.metrics import r2_score\n",
        "from sklearn.preprocessing import StandardScaler"
      ]
    },
    {
      "cell_type": "code",
      "execution_count": 3,
      "metadata": {
        "id": "F7nMDMdsaT_m"
      },
      "outputs": [
        {
          "name": "stdout",
          "output_type": "stream",
          "text": [
            "Writing ensemble.py\n"
          ]
        }
      ],
      "source": [
        "%%writefile ensemble.py\n",
        "\n",
        "\n",
        "skip_dates = 2    # Number of dates to skip from the beginning of the dataset\n",
        "N_fold = 5    # Number of folds for cross-validation\n",
        "TRAINING = True\n",
        "num_valid_dates = 90\n",
        "test_data_points=10000\n",
        "\n",
        "input_path = \"btc-1-min-data\" if os.path.exists(\"btc-1-min-data\") else \"btc-1-min-data\"\n",
        "# loading the data from the folder and makinng a single  df-\n",
        "# using 3 years data for training -\n",
        "file_path = f\"{input_path}/BTC_2019_2023_1m.csv\"\n",
        "chunk = pd.read_csv(file_path)\n",
        "# For example, 100 rows\n",
        "## test data set - as last 1 lakh data points and rest above as training-\n",
        "test = chunk.copy().iloc[len(chunk) - 100000 :]\n",
        "unprocessed_test = test.copy()\n",
        "# Convert 'datetime' to datetime format\n",
        "test[\"datetimes\"] = pd.to_datetime(test[\"datetime\"], errors=\"coerce\")\n",
        "#Check for any invalid values in the datetime column\n",
        "if test[\"datetimes\"].isnull().any():\n",
        "  print(\"Warning: Some entries in the 'datetime' column could not be parsed!\")\n",
        "  print(test[test[\"datetimes\"].isnull()])  # Display rows with invalid datetime values\n",
        "# Proceed with further processing\n",
        "test[\"date\"] = test[\"datetimes\"].dt.date  # Extract the date part\n",
        "test[\"date_id\"] = (test[\"date\"].astype(\"category\").cat.codes)\n",
        "# Create unique IDs for each date\n",
        "print(\" all files imported\")\n",
        "df = chunk.copy().iloc[: len(chunk) - 100000]\n",
        "df[\"datetimes\"] = pd.to_datetime(df[\"datetime\"], errors=\"coerce\")\n",
        "# Check for any invalid values in the datetime column\n",
        "if df[\"datetimes\"].isnull().any():\n",
        "  print(\"Warning: Some entries in the 'datetime' column could not be parsed!\")\n",
        "  print(df[test[\"datetimes\"].isnull()])  # Display rows with invalid datetime values\n",
        "\n",
        "# Proceed with further processing\n",
        "df[\"date\"] = df[\"datetimes\"].dt.date  # Extract the date part\n",
        "df[\"date_id\"] = (df[\"date\"].astype(\"category\").cat.codes)  # Create unique IDs for each date\n",
        "\n",
        "dates = df[\"datetime\"].unique()\n",
        "valid_dates = dates[-num_valid_dates:]\n",
        "\n",
        "# Define training dates as all dates except the last `num_valid_dates` dates\n",
        "train_dates = dates[:-num_valid_dates]\n",
        "\n",
        "df[\"Target\"] = df[\"close\"].shift(-15)  # Shift the 'Close' column by -15 steps\n",
        "df[\"Target\"] = (\n",
        "    (df[\"Target\"] - df[\"close\"]) / df[\"close\"]\n",
        ") * 100  # Compute percentage return\n",
        "\n",
        "# Handle NaN values for rows that don't have a full future window\n",
        "df[\"Target\"] = df[\"Target\"].fillna(0)\n",
        "\n",
        "test[\"Target\"] = test[\"close\"].shift(-15)  # Shift the 'Close' column by -15 steps\n",
        "test[\"Target\"] = (\n",
        "    (test[\"Target\"] - test[\"close\"]) / test[\"close\"]\n",
        ") * 100  # Compute percentage return\n",
        "\n",
        "# Handle NaN values for rows that don't have a full future window\n",
        "test[\"Target\"] = test[\"Target\"].fillna(0)\n",
        "\n",
        "def preprocess_data(df):\n",
        "\n",
        "    # Basic preprocessing steps (example)\n",
        "    \"\"\"\n",
        "    Preprocess the data by calculating various technical indicators.\n",
        "\n",
        "    Parameters\n",
        "    ----------\n",
        "    df : pandas.DataFrame\n",
        "        The DataFrame containing the stock data.\n",
        "\n",
        "    Returns\n",
        "    -------\n",
        "    pandas.DataFrame\n",
        "        The preprocessed DataFrame with the calculated technical indicators.\n",
        "    \"\"\"\n",
        "\n",
        "    stock = df\n",
        "    stock[\"Close\"] = stock[\"close\"]\n",
        "    stock[\"Open\"] = stock[\"open\"]\n",
        "    stock[\"High\"] = stock[\"high\"]\n",
        "    stock[\"Low\"] = stock[\"low\"]\n",
        "    stock[\"Volume\"] = stock[\"volume\"]\n",
        "    data = stock\n",
        "\n",
        "    del stock\n",
        "\n",
        "    windows = [5, 10, 15, 20]\n",
        "    for i in windows:\n",
        "        # Calculate the 10-day SMA\n",
        "        data[f\"{i}_SMA\"] = data[\"Close\"].rolling(window=i, min_periods=i).mean()\n",
        "\n",
        "    for i in windows:\n",
        "\n",
        "        weights = np.arange(1, i + 1)\n",
        "\n",
        "        # Function to calculate WMA for each rolling window\n",
        "        def calc_wma(values):\n",
        "            return np.dot(values, weights) / weights.sum()\n",
        "\n",
        "        # Calculate the 10-day WMA using the custom function\n",
        "        data[f\"{i}_WMA\"] = (\n",
        "            data[\"Close\"].rolling(window=i, min_periods=i).apply(calc_wma, raw=True)\n",
        "        )\n",
        "\n",
        "    for i in windows:\n",
        "\n",
        "        # Calculate the smoothing factor (alpha)\n",
        "        alpha = 2 / (i + 1)\n",
        "\n",
        "        # Function to calculate EMA\n",
        "        def calculate_ema(series, alpha):\n",
        "            ema = series.ewm(span=i, adjust=False).mean()\n",
        "            return ema\n",
        "\n",
        "        # Calculate the 10-day EMA\n",
        "        data[f\"{i}_EMA\"] = calculate_ema(data[\"Close\"], alpha)\n",
        "\n",
        "    window = 5\n",
        "\n",
        "    def calculate_stochastic_k(data, window):\n",
        "        # Calculate the rolling high and low from the Close over the specified window\n",
        "        high_roll = data[\"Close\"].rolling(window=i, min_periods=1).max()\n",
        "        low_roll = data[\"Close\"].rolling(window=i, min_periods=1).min()\n",
        "\n",
        "        # Calculate the %K using the typical formula\n",
        "        stochastic_k = (data[\"Close\"] - low_roll) / (high_roll - low_roll) * 100\n",
        "\n",
        "        # Apply EMA to the %K values\n",
        "\n",
        "        return stochastic_k\n",
        "\n",
        "    data[\"Stochastic_K\"] = calculate_stochastic_k(data, window)\n",
        "\n",
        "    window = 5\n",
        "\n",
        "    def calculate_stochastic_d(stochastic_k, window):\n",
        "        # Apply EMA to the %K EMA values to get %D\n",
        "        stochastic_d = stochastic_k.ewm(span=window, adjust=False).mean()\n",
        "        return stochastic_d\n",
        "\n",
        "    # Assuming your DataFrame is named 'data' and contains 'Close' column\n",
        "\n",
        "    data[\"Stochastic_D\"] = calculate_stochastic_d(data[\"Stochastic_K\"], 5)\n",
        "\n",
        "    rsi_window = 14  # Typically, a 14-period window is used\n",
        "\n",
        "    # Function to calculate RSI using EMA\n",
        "    def calculate_rsi(data, window):\n",
        "        # Calculate the price changes\n",
        "        delta = data[\"Close\"].diff()\n",
        "\n",
        "        # Separate gains and losses\n",
        "        gains = delta.where(delta > 0, 0)\n",
        "        losses = -delta.where(delta < 0, 0)\n",
        "\n",
        "        # Calculate the exponential moving averages (EMA) of gains and losses\n",
        "        avg_gain = gains.ewm(span=window, adjust=False).mean()\n",
        "        avg_loss = losses.ewm(span=window, adjust=False).mean()\n",
        "\n",
        "        # Calculate the Relative Strength (RS)\n",
        "        rs = avg_gain / avg_loss\n",
        "\n",
        "        # Calculate the RSI\n",
        "        rsi = 100 - (100 / (1 + rs))\n",
        "\n",
        "        return rsi\n",
        "\n",
        "    data[\"RSI\"] = calculate_rsi(data, rsi_window)\n",
        "\n",
        "    # macd-\n",
        "    # Define the window sizes for MACD calculation\n",
        "    short_window_1 = 5  # 12-period for the short-term EMA\n",
        "    long_window_1 = 15  # 26-period for the long-term EMA\n",
        "    # 9-period for the signal line\n",
        "    short_window_2 = 5\n",
        "    long_window_2 = 20\n",
        "\n",
        "    short_window_3 = 5\n",
        "    long_window_3 = 10\n",
        "\n",
        "    # Function to calculate MACD\n",
        "    def calculate_macd(data, short_window, long_window):\n",
        "        # Calculate the short-term EMA\n",
        "        short_ema = data[\"Close\"].ewm(span=short_window, adjust=False).mean()\n",
        "\n",
        "        # Calculate the long-term EMA\n",
        "        long_ema = data[\"Close\"].ewm(span=long_window, adjust=False).mean()\n",
        "\n",
        "        # Calculate the MACD line (difference between short-term EMA and long-term EMA)\n",
        "        macd = short_ema - long_ema\n",
        "        return macd\n",
        "\n",
        "    # Assuming your DataFrame is named 'data' and contains 'Close' column\n",
        "    data[\"MACD_1\"] = calculate_macd(data, short_window_1, long_window_1)\n",
        "    data[\"MACD_2\"] = calculate_macd(data, short_window_2, long_window_2)\n",
        "    data[\"MACD_3\"] = calculate_macd(data, short_window_3, long_window_3)\n",
        "\n",
        "    # larry williams--\n",
        "    for i in windows:\n",
        "        # Define the window size for Williams %R calculation\n",
        "        williams_r_window = i  # Typically, a 14-period window is used\n",
        "\n",
        "        # Function to calculate Williams %R using Close\n",
        "        def calculate_williams_r(data, window):\n",
        "            # Calculate the highest price over the window\n",
        "            high_n = data[\"Close\"].rolling(window=window).max()\n",
        "\n",
        "            # Calculate the lowest price over the window\n",
        "            low_n = data[\"Close\"].rolling(window=window).min()\n",
        "\n",
        "            # Calculate Williams %R\n",
        "            williams_r = ((high_n - data[\"Close\"]) / (high_n - low_n)) * -100\n",
        "\n",
        "            return williams_r\n",
        "\n",
        "        # Assuming your DataFrame is named 'data' and contains 'Close' column\n",
        "        data[f\"Williams_%R_{i}\"] = calculate_williams_r(data, williams_r_window)\n",
        "\n",
        "    def calculate_rdp(data, x):\n",
        "        # Calculate the moving average (CLt-x)\n",
        "        moving_average = data[\"Close\"].rolling(window=x).mean()\n",
        "\n",
        "        # Calculate RDP (RDPt)\n",
        "        rdp = ((data[\"Close\"] - moving_average) / moving_average) * 100\n",
        "\n",
        "        return rdp\n",
        "\n",
        "    for i in windows:\n",
        "\n",
        "        data[f\"RDP_{i}\"] = calculate_rdp(data, i)\n",
        "\n",
        "    # Bias\n",
        "    def calculate_bias(data, interval):\n",
        "        # Calculate the moving average\n",
        "        moving_average = data[\"Close\"].rolling(window=interval).mean()\n",
        "\n",
        "        # Calculate Bias\n",
        "        bias = (data[\"Close\"] - moving_average) / moving_average\n",
        "\n",
        "        return bias\n",
        "\n",
        "    # You can change this to any desired interval\n",
        "    for i in windows:\n",
        "        # Calculate Bias and add it as a new column in the DataFrame\n",
        "        data[f\"Bias_{i}\"] = calculate_bias(data, i)\n",
        "\n",
        "    def calculate_mtm(data, interval):\n",
        "\n",
        "        moving_average = data[\"Close\"].rolling(window=interval).mean()\n",
        "\n",
        "        # Calculate Momentum (MTM)\n",
        "        mtm = data[\"Close\"] - moving_average\n",
        "\n",
        "        return mtm\n",
        "\n",
        "    for i in windows:\n",
        "        # You can change this to any desired interval\n",
        "\n",
        "        # Calculate MTM and add it as a new column in the DataFrame\n",
        "        data[f\"MTM_{i}\"] = calculate_mtm(data, i)\n",
        "\n",
        "    def calculate_roc(data, interval):\n",
        "        # Calculate the moving average of 'Close'\n",
        "        moving_average = data[\"Close\"].rolling(window=interval).mean()\n",
        "\n",
        "        # Calculate Rate of Change (ROC)\n",
        "        roc = data[\"Close\"] / moving_average\n",
        "\n",
        "        return roc\n",
        "\n",
        "    for i in windows:\n",
        "        # Calculate ROC and add it as a new column in the DataFrame\n",
        "        data[f\"ROC_{i}\"] = calculate_roc(data, i)\n",
        "\n",
        "    def calculate_oscp(data, x_interval, y_interval):\n",
        "        # Calculate the moving average for both columns\n",
        "        ma_x = data[\"Close\"].rolling(window=x_interval).mean()\n",
        "        ma_y = data[\"Close\"].rolling(window=y_interval).mean()\n",
        "\n",
        "        # Calculate OSCP\n",
        "        oscp = (ma_x - ma_y) / ma_x\n",
        "\n",
        "        return oscp\n",
        "\n",
        "    # Calculate OSCP and add it as a new column in the DataFrame\n",
        "    data[\"OSCP_1\"] = calculate_oscp(data, short_window_1, long_window_1)\n",
        "    data[\"OSCP_2\"] = calculate_oscp(data, short_window_2, long_window_2)\n",
        "    data[\"OSCP_3\"] = calculate_oscp(data, short_window_3, long_window_3)\n",
        "\n",
        "    def calculate_median_price(data, period):\n",
        "        # Calculate the highest high and lowest low over the specified period\n",
        "        highest_high = data[\"High\"].rolling(window=period).max()\n",
        "        lowest_low = data[\"Low\"].rolling(window=period).min()\n",
        "\n",
        "        # Calculate Median Price\n",
        "        median_price = (highest_high + lowest_low) / 2\n",
        "\n",
        "        return median_price\n",
        "\n",
        "    # Define the period for calculation\n",
        "    period = 10  # You can change this to any desired period\n",
        "\n",
        "    # Calculate Median Price and add it as a new column in the DataFrame\n",
        "    data[f\"Median_Price_{period}\"] = calculate_median_price(data, period)\n",
        "\n",
        "    data[\"highest_high\"] = data[\"High\"].rolling(window=period).max()\n",
        "    data[\"lowest_low\"] = data[\"Low\"].rolling(window=period).min()\n",
        "\n",
        "    def calculate_signal_line(data, period_x, period_y):\n",
        "        # Calculate SMA for x and y\n",
        "        data[f\"SMA_{period_x}\"] = data[\"Close\"].rolling(window=period_x).mean()\n",
        "        data[f\"SMA_{period_y}\"] = data[\"Close\"].rolling(window=period_y).mean()\n",
        "\n",
        "        # Calculate the Signal Line\n",
        "        data[\"Signal_Line\"] = (1 / (10 * data[f\"SMA_{period_y}\"])) * (\n",
        "            data[f\"SMA_{period_x}\"] - data[f\"SMA_{period_y}\"]\n",
        "        ) + data[f\"SMA_{period_y}\"]\n",
        "        return data\n",
        "\n",
        "    # Define the periods for SMA calculation\n",
        "    period_x = 10  # Period for SMA of x (you can change this)\n",
        "    period_y = 20  # Period for SMA of y (you can change this)\n",
        "\n",
        "    # Calculate the Signal Line and add it to the DataFrame\n",
        "    data = calculate_signal_line(data, period_x, period_y)\n",
        "\n",
        "    def calculate_ultimate_oscillator(data, short_period, mid_period, long_period):\n",
        "        # Calculate moving averages over different periods\n",
        "        avg_x = data[\"Close\"].rolling(window=short_period).mean()\n",
        "        avg_y = data[\"Close\"].rolling(window=mid_period).mean()\n",
        "        avg_z = data[\"Close\"].rolling(window=long_period).mean()\n",
        "\n",
        "        # Calculate the Ultimate Oscillator\n",
        "        data[\"UO\"] = 100 * (1 / (4 + 2 + 1)) * (4 * avg_x + 2 * avg_y + avg_z)\n",
        "\n",
        "        return data\n",
        "\n",
        "    # Define the periods for short, mid, and long-term moving averages\n",
        "    short_period = 10  # Short-term moving average period\n",
        "    mid_period = 20  # Mid-term moving average period\n",
        "    long_period = 30  # Long-term moving average period\n",
        "\n",
        "    # Calculate the Ultimate Oscillator and add it to the DataFrame\n",
        "    data = calculate_ultimate_oscillator(data, short_period, mid_period, long_period)\n",
        "\n",
        "    def calculate_bp_tr(data):\n",
        "\n",
        "        data[\"BP\"] = data[\"Close\"] - data[[\"Low\", \"Close\"]].shift(1).min(axis=1)\n",
        "\n",
        "        # True Range (TR)\n",
        "        data[\"TR\"] = data[[\"High\", \"Close\"]].shift(1).max(axis=1) - data[\n",
        "            [\"Low\", \"Close\"]\n",
        "        ].shift(1).min(axis=1)\n",
        "\n",
        "        return data\n",
        "\n",
        "    # Function to calculate Ultimate Oscillator (UO)\n",
        "    def calculate_ultimate_oscillator(\n",
        "        data, short_period=7, medium_period=14, long_period=28\n",
        "    ):\n",
        "        # Calculate BP and TR\n",
        "        data = calculate_bp_tr(data)\n",
        "\n",
        "        # Rolling averages of BP/TR for different timeframes\n",
        "        avg_x = (\n",
        "            data[\"BP\"].rolling(window=short_period).sum()\n",
        "            / data[\"TR\"].rolling(window=short_period).sum()\n",
        "        )\n",
        "        avg_y = (\n",
        "            data[\"BP\"].rolling(window=medium_period).sum()\n",
        "            / data[\"TR\"].rolling(window=medium_period).sum()\n",
        "        )\n",
        "        avg_z = (\n",
        "            data[\"BP\"].rolling(window=long_period).sum()\n",
        "            / data[\"TR\"].rolling(window=long_period).sum()\n",
        "        )\n",
        "\n",
        "        # Ultimate Oscillator formula\n",
        "        data[\"UO\"] = 100 * ((4 * avg_x) + (2 * avg_y) + (1 * avg_z)) / (4 + 2 + 1)\n",
        "\n",
        "        return data\n",
        "\n",
        "    # Define periods for short, medium, and long timeframes\n",
        "    short_period = 10\n",
        "    medium_period = 20\n",
        "    long_period = 30\n",
        "\n",
        "    # Calculate Ultimate Oscillator and add it to the DataFrame\n",
        "    data = calculate_ultimate_oscillator(data, short_period, medium_period, long_period)\n",
        "\n",
        "    def calculate_ulcer_index(data, window):\n",
        "        # Calculate the highest high over the window (HH)\n",
        "        hh = data[\"Close\"].rolling(window=window).max()\n",
        "\n",
        "        # Calculate Rt(x)\n",
        "        rt = 100 * (data[\"Close\"] - hh) / hh\n",
        "\n",
        "        # Square the Rt values (as per the formula)\n",
        "        rt_sq = rt**2\n",
        "\n",
        "        # Ulcer Index (root of the average squared drawdowns)\n",
        "        data[\"Ulcer_Index\"] = np.sqrt(rt_sq.rolling(window=window).mean())\n",
        "\n",
        "        return data\n",
        "\n",
        "    # Define the window for the Ulcer Index calculation\n",
        "    ulcer_window = 10  # You can change this window\n",
        "\n",
        "    # Calculate the Ulcer Index and add it to the DataFrame\n",
        "    data = calculate_ulcer_index(data, ulcer_window)\n",
        "\n",
        "    def ema(series, span):\n",
        "        return series.ewm(span=span, adjust=False).mean()\n",
        "\n",
        "    # Function to calculate TSI\n",
        "    def calculate_tsi(data, window):\n",
        "        # Calculate the Momentum (MTM)\n",
        "        mtm = data[\"Close\"] - data[\"Close\"].shift(1)\n",
        "\n",
        "        # Apply EMA to the MTM for the first smoothing\n",
        "        ema_mtm = ema(mtm, window)\n",
        "\n",
        "        # Apply a second EMA to the already smoothed MTM\n",
        "        Double_EMA_MTM = ema(ema_mtm, window)\n",
        "\n",
        "        # Calculate the absolute value of MTM and apply EMA twice\n",
        "        Abs_MTM = mtm.abs()\n",
        "        EMA_Abs_MTM = ema(Abs_MTM, window)\n",
        "        Double_EMA_Abs_MTM = ema(EMA_Abs_MTM, window)\n",
        "\n",
        "        # Calculate the TSI\n",
        "        data[\"TSI\"] = 100 * (Double_EMA_MTM / Double_EMA_Abs_MTM)\n",
        "\n",
        "        return data\n",
        "\n",
        "    # Define the window for the TSI calculation\n",
        "    tsi_window = 25  # Typical value is 25, but you can adjust\n",
        "\n",
        "    # Calculate TSI and add it to the DataFrame\n",
        "    data = calculate_tsi(data, tsi_window)\n",
        "\n",
        "    def calculate_ad_oscillator(data):\n",
        "\n",
        "        # Calculate the A/D oscillator value using the formula (HighPrice - ClosePrice(t-1)) / (HighPrice - LowPrice)\n",
        "        data[\"A/D Oscillator\"] = (data[\"High\"] - data[\"Close\"].shift(1)) / (\n",
        "            data[\"High\"] - data[\"Low\"]\n",
        "        )\n",
        "        return data\n",
        "\n",
        "    # Calculate the A/D Oscillator\n",
        "    data = calculate_ad_oscillator(data)\n",
        "\n",
        "    from sklearn.preprocessing import StandardScaler\n",
        "\n",
        "    # Initialize the StandardScaler\n",
        "    scaler = StandardScaler()\n",
        "\n",
        "    # Fit and transform the data\n",
        "    cols = list(data.columns)  # Convert to a list\n",
        "    cols = [\n",
        "        col for col in cols if col not in [\"datetime\", \"datetimes\", \"date\", \"date_id\"]\n",
        "    ]  # Remove unwanted columns\n",
        "    data[cols] = data[cols].replace([np.inf, -np.inf], np.nan)\n",
        "    data[cols] = data[cols].fillna(0)\n",
        "    standardized_data = scaler.fit_transform(data[cols])\n",
        "\n",
        "    # Create a new DataFrame with standardized values\n",
        "\n",
        "    data_df = pd.DataFrame(standardized_data, columns=cols)\n",
        "    data_df[\"datetime\"] = data[\"datetime\"]\n",
        "    data_df[\"date_id\"] = data[\"date_id\"]\n",
        "\n",
        "    return data_df\n",
        "\n",
        "\n",
        "print(\"data pre-processing started\")\n",
        "df = preprocess_data(df)\n",
        "print(df.head())\n",
        "test = preprocess_data(test)\n",
        "print(test.head())\n",
        "print(df.shape)\n",
        "print(\"data pre-processing done\")\n",
        "\n",
        "from sklearn.model_selection import train_test_split\n",
        "\n",
        "os.system(\"mkdir models\")\n",
        "print(\"started\")\n",
        "# Define the path to load pre-trained models (if not in training mode)\n",
        "model_path = \"models\"\n",
        "\n",
        "# If in training mode, prepare validation data\n",
        "if TRAINING:\n",
        "    print(\"training data prep\")\n",
        "\n",
        "    # Extract features, target, and weights for validation dates\n",
        "    y_valid = df[\"Target\"]\n",
        "    # df.drop([\"Target\"], axis =1, inplace = True)\n",
        "    cols = df.columns\n",
        "\n",
        "    X_valid = df[cols]\n",
        "    X_valid.drop([\"Target\", \"datetime\", \"date_id\"], axis=1, inplace=True)\n",
        "    X_train, X_valid, y_train, y_valid = train_test_split(\n",
        "        X_valid, y_valid, test_size=0.2, random_state=42\n",
        "    )\n",
        "\n",
        "    # Sample 500,000 rows from X_train\n",
        "    samples = 500000\n",
        "    X_train = X_train.sample(samples, replace=False, random_state=None)\n",
        "\n",
        "    # Now get the corresponding rows from y_train\n",
        "    y_train = y_train.loc[X_train.index]\n",
        "\n",
        "\n",
        "# Initialize a list to store trained models\n",
        "modelss = []\n",
        "\n",
        "\n",
        "# Function to train a model or load a pre-trained model\n",
        "def train(model_dict, model_name=\"lgb\"):\n",
        "    \"\"\"\n",
        "    Train a machine learning model using the specified configuration.\n",
        "\n",
        "    Parameters\n",
        "    ----------\n",
        "    model_dict : dict\n",
        "        A dictionary containing model configurations for LightGBM, XGBoost, and CatBoost.\n",
        "    model_name : str, optional\n",
        "        The name of the model to train ('lgb', 'xgb', or 'cbt'), by default 'lgb'.\n",
        "\n",
        "    Description\n",
        "    -----------\n",
        "    This function handles the training and validation of machine learning models. It selects\n",
        "    training data based on fold number, preprocesses features and targets, and trains the model\n",
        "    with early stopping and evaluation logging. The trained model is saved to disk, and models\n",
        "    are loaded from disk if not in training mode.\n",
        "    \"\"\"\n",
        "    print(f\"Training {model_name} model for fold {i}...\")\n",
        "\n",
        "    if TRAINING:\n",
        "        # Select dates for training based on the fold number\n",
        "        print(\"Selecting dates for training...\")\n",
        "        selected_dates = [\n",
        "            date for ii, date in enumerate(train_dates) if ii % N_fold != i\n",
        "        ]\n",
        "\n",
        "        # Get the model from the dictionary\n",
        "        print(\"Getting the model from the dictionary...\")\n",
        "        model = model_dict[model_name]\n",
        "\n",
        "        # Extract features, target, and weights for the selected training dates\n",
        "        print(\n",
        "            \"Extracting features, target, and weights for the selected training dates...\"\n",
        "        )\n",
        "        y_valid = df[\"Target\"]\n",
        "        cols = df.columns\n",
        "        X_valid = df[cols]\n",
        "        X_valid.drop([\"Target\", \"datetime\", \"date_id\"], axis=1, inplace=True)\n",
        "        X_train, X_valid, y_train, y_valid = train_test_split(\n",
        "            X_valid, y_valid, test_size=0.2, random_state=42\n",
        "        )\n",
        "\n",
        "        print(\"Sampling 500,000 rows from X_train...\")\n",
        "        samples = len(df)//2\n",
        "        X_train = X_train.sample(samples, replace=False, random_state=None)\n",
        "\n",
        "        # Now get the corresponding rows from y_train\n",
        "        print(\"Getting the corresponding rows from y_train...\")\n",
        "        y_train = y_train.loc[X_train.index]\n",
        "\n",
        "        # Train the model\n",
        "        if model_name == \"lgb\":\n",
        "            # Train LightGBM model with early stopping and evaluation logging\n",
        "            model.fit(\n",
        "                X_train,\n",
        "                y_train,\n",
        "                eval_metric=[r2_lgb],\n",
        "                eval_set=[(X_valid, y_valid)],\n",
        "                callbacks=[lgb.early_stopping(100), lgb.log_evaluation(10)],\n",
        "            )\n",
        "\n",
        "        elif model_name == \"cbt\":\n",
        "            # Prepare evaluation set for CatBoost\n",
        "            evalset = cbt.Pool(X_valid, y_valid)\n",
        "\n",
        "            # Train CatBoost model with early stopping and verbose logging\n",
        "            model.fit(\n",
        "                evalset,\n",
        "                use_best_model=True,  # Keeps the best model based on validation set\n",
        "                verbose=200,  # Logs progress every 100 iterations\n",
        "            )\n",
        "\n",
        "        else:\n",
        "            # Train XGBoost model with early stopping and verbose logging\n",
        "            model.fit(\n",
        "                X_train,\n",
        "                y_train,\n",
        "                eval_set=[(X_valid, y_valid)],\n",
        "                verbose=10,\n",
        "                early_stopping_rounds=200,\n",
        "            )\n",
        "\n",
        "        # Append the trained model to the list\n",
        "        modelss.append(model)\n",
        "\n",
        "        # Save the trained model to a file\n",
        "        joblib.dump(model, f\"./models/{model_name}_{i}.model\")\n",
        "\n",
        "        # Collect garbage to free up memory\n",
        "        import gc\n",
        "\n",
        "        gc.collect()\n",
        "\n",
        "    else:\n",
        "        # If not in training mode, load the pre-trained model from the specified path\n",
        "        modelss.append(joblib.load(f\"{model_path}/{model_name}_{i}_individual.model\"))\n",
        "\n",
        "    return\n",
        "\n",
        "\n",
        "# Custom R2 metric for XGBoost\n",
        "def r2_xgb(y_true, y_pred):\n",
        "    r2 = 1 - np.mean((y_pred - y_true) ** 2) / (np.mean(y_true**2) + 1e-38)\n",
        "    return \"r2\", -r2\n",
        "\n",
        "\n",
        "# Custom R2 metric for LightGBM\n",
        "def r2_lgb(y_true, y_pred):\n",
        "    r2 = 1 - np.mean((y_pred - y_true) ** 2) / (np.mean(y_true**2) + 1e-38)\n",
        "    return \"r2\", r2, True  # Return True to maximize the metric\n",
        "\n",
        "\n",
        "# Custom R2 metric for CatBoost\n",
        "\n",
        "# Dictionary to store different models with their configurations\n",
        "model_dict = {\n",
        "    \"lgb\": lgb.LGBMRegressor(\n",
        "        n_estimators=500 * 2, device=\"gpu\", gpu_use_dp=True, objective=\"l2\"\n",
        "    ),\n",
        "    \"xgb\": xgb.XGBRegressor(\n",
        "        n_estimators=2000 ,\n",
        "        learning_rate=0.1,\n",
        "        max_depth=6,\n",
        "        tree_method=\"hist\",\n",
        "        device=\"cuda\",\n",
        "        objective=\"reg:squarederror\",\n",
        "        eval_metric=\"rmse\",\n",
        "        disable_default_eval_metric=True,\n",
        "    ),\n",
        "    \"cbt\": cbt.CatBoostRegressor(\n",
        "        iterations=1000 ,\n",
        "        learning_rate=0.05,\n",
        "        task_type=\"GPU\",\n",
        "        loss_function=\"RMSE\",\n",
        "        eval_metric=\"R2\",\n",
        "    ),\n",
        "}\n",
        "\n",
        "print(\"calling the train fns\")\n",
        "# Train models for each fold\n",
        "\n",
        "for i in range(N_fold):\n",
        "  print(f\"{i} th fold training \")\n",
        "  print(\"lgb\")\n",
        "  train(model_dict, \"lgb\")\n",
        "  print(\"xgb\")\n",
        "  train(model_dict, \"xgb\")\n",
        "  print(\"cbt\")\n",
        "  train(model_dict, \"cbt\")\n",
        "\n",
        "\n",
        "y_test = test[\"Target\"][:test_data_points]  # Take the first 10,000 points only\n",
        "print(\"Started\")\n",
        "\n",
        "# Prepare the feature set\n",
        "X_test = test.iloc[:test_data_points].drop([\"Target\", \"datetime\", \"date_id\"], axis=1)\n",
        "\n",
        "pred = np.array(\n",
        "    [model.predict(X_test) for model in modelss]\n",
        ")  # Shape: (n_models, 10000)\n",
        "# Average predictions across all models\n",
        "pred_mean = np.mean(pred, axis=0)  # Shape: (10000,)\n",
        "\n",
        "# Calculate R² score for the first 10,000 points\n",
        "r2 = r2_score(y_test, pred_mean)\n",
        "print(f\"R² Score: {r2}\")\n",
        "\n",
        "\n",
        "# Saving the predictions\n",
        "\n",
        "colss = [\"open\", \"high\", \"close\", \"low\", \"volume\"]\n",
        "X_test = X_test[colss]\n",
        "unprocessed_test = unprocessed_test.iloc[:test_data_points]\n",
        "unprocessed_test[\"target_returns\"] = y_test\n",
        "unprocessed_test[\"predicted_mean\"] = pred_mean\n",
        "X_test[\"Target_returns\"] = y_test\n",
        "X_test[\"predicted_mean\"] = pred_mean\n",
        "print(X_test.head())\n",
        "unprocessed_test.to_csv(f\"{stock}_test_predicted.csv\", index=False)"
      ]
    },
    {
      "cell_type": "markdown",
      "metadata": {
        "id": "bVZ2tpTVmAza"
      },
      "source": [
        "### Statistical Strategy"
      ]
    },
    {
      "cell_type": "markdown",
      "metadata": {
        "id": "8Ldm02q1mH2P"
      },
      "source": [
        "As mentioned in the Empirical Analysis section, multiple moving average indicators were tried, but in the end we settled with Hull Moving Average (HMA) due to its superior performance and balance between accuracy and responsiveness.\n",
        "\n",
        "The final strategy could be defined as the following:\n",
        "\n",
        "**Supertrend Indicator**\n",
        "\n",
        "*   Its role is to identify choppy or highly volatile market conditions. If market is highly choppy, we will not do any trade because as observed before, MA indicators lead to false entries in volatile market conditions.\n",
        "\n",
        "We had two options for supertrend indicator:\n",
        "\n",
        "1. ATR (Average True Range): Easier to apply. The Supertrend will use ATR values to create an upper and lower band around the price. By aligning signals with HMA crossovers, the Supertrend filters out false entries in volatile or sideways market conditions.\n",
        "2. HAR: Using HAR predictions to identify choppy market conditions to filter out false entries in volatile market.\n",
        "\n",
        "**HMA Indicator**\n",
        "\n",
        "*   The HMA calculation begins with two WMAs—first, a shorter-period WMA and second, a long period WMA.\n",
        "*   A buy signal occurs when the fast HMA (e.g., 10-period) crosses above the slow HMA\n",
        " (e.g., 30-period), indicating potential upward momentum. Conversely, a sell signal is generated when\n",
        " the fast HMA crosses below the slow HMA, signaling a downward trend.\n",
        "\n",
        "\n",
        " **Parameter Estimation**\n",
        "\n",
        " We need to estimate values of time sensitive HMA lenghts and the threshold to indicate high volitile conditions based on HAR prediction.\n",
        " Based on our initial trials, we used 30 day period for slow HMA and 1 day period for fast HMA, but planned on applying the following system for more dynamic parameter estimation:\n",
        "\n",
        " 1. **Polynomial Regression**: The BTC market exhibit logarithmic growth trends, where price increases become less explosive over time. This deceleration pattern can be captured by polynomial regression to identify slowing market trends for selection of HMA lenghts. (Example: If market deccelerates, longer HMAs can be used to smooth out noise while maintaining responsiveness.)\n",
        "\n",
        " 2. **Decision Tree**: A decision tree based classifier was used to identify threshold for high volatility conditions on basis of HAR prediction values.\n",
        "\n",
        "\n",
        "**NOTE**: The planned dynamic parameter estimation using regression and decision tree was not applied due to lack of time.\n",
        "\n"
      ]
    },
    {
      "cell_type": "code",
      "execution_count": null,
      "metadata": {
        "id": "eXIxHXXlpSbr"
      },
      "outputs": [
        {
          "name": "stdout",
          "output_type": "stream",
          "text": [
            "Writing stat_strat.py\n"
          ]
        }
      ],
      "source": [
        "%%writefile stat_strat.py\n",
        "import pandas as pd\n",
        "from untrade.client import Client\n",
        "from pprint import pprint\n",
        "import talib as ta\n",
        "import numpy as np\n",
        "\n",
        "def hma(series, period):\n",
        "    half_length = period // 2\n",
        "    sqrt_length = int(np.sqrt(period))\n",
        "    wma_half = ta.WMA(series, half_length)\n",
        "    wma_full = ta.WMA(series, period)\n",
        "    hma_series = ta.WMA(2 * wma_half - wma_full, sqrt_length)\n",
        "    return hma_series\n",
        "\n",
        "def supertrend(df, period=7, multiplier=3):\n",
        "    atr = ta.ATR(df['high'], df['low'], df['close'], timeperiod=period)\n",
        "    hl2 = (df['high'] + df['low']) / 2\n",
        "    upper_band = hl2 + (multiplier * atr)\n",
        "    lower_band = hl2 - (multiplier * atr)\n",
        "    supertrend = [True] * len(df)  # True indicates uptrend, False indicates downtrend\n",
        "\n",
        "    # Fix the indexing warnings by using iloc\n",
        "    for i in range(1, len(df)):\n",
        "        if df['close'].iloc[i] > upper_band.iloc[i - 1]:\n",
        "            supertrend[i] = True\n",
        "        elif df['close'].iloc[i] < lower_band.iloc[i - 1]:\n",
        "            supertrend[i] = False\n",
        "        else:\n",
        "            supertrend[i] = supertrend[i - 1]\n",
        "            upper_band.iloc[i] = min(upper_band.iloc[i], upper_band.iloc[i - 1]) if supertrend[i] else upper_band.iloc[i]\n",
        "            lower_band.iloc[i] = max(lower_band.iloc[i], lower_band.iloc[i - 1]) if not supertrend[i] else lower_band.iloc[i]\n",
        "\n",
        "    df['supertrend'] = supertrend\n",
        "    df['supertrend_ub'] = upper_band\n",
        "    df['supertrend_lb'] = lower_band\n",
        "    return df\n",
        "\n",
        "def process_data(data):\n",
        "    data.drop(data[data['volume'] == 0].index, inplace=True)\n",
        "    hma_fast_period = 10\n",
        "    hma_slow_period = 30\n",
        "    # Calculate HMA\n",
        "    data['hma_fast'] = hma(data['close'], hma_fast_period)\n",
        "    data['hma_slow'] = hma(data['close'], hma_slow_period)\n",
        "    # Calculate Supertrend\n",
        "    data = supertrend(data, period=7, multiplier=3)\n",
        "    # Define entry/exit signals row-wise\n",
        "    def entry_exit_signal(row):\n",
        "        if row['hma_fast'] > row['hma_slow'] and row['supertrend']:\n",
        "            return 1  # Buy signal\n",
        "        elif row['hma_fast'] < row['hma_slow'] and not row['supertrend']:\n",
        "            return -1  # Sell signal\n",
        "        else:\n",
        "            return 0  # No signal\n",
        "    # Apply the signal generation to each row\n",
        "    data['Signal'] = data.apply(entry_exit_signal, axis=1)\n",
        "    return data\n",
        "\n",
        "def strat(data):\n",
        "    data.dropna(inplace=True)\n",
        "    signal = []\n",
        "    trade_type = []\n",
        "    prev = None\n",
        "    for value in data[\"Signal\"]:\n",
        "        if value == prev:\n",
        "            signal.append(0)\n",
        "        else:\n",
        "            signal.append(value)\n",
        "        prev = value\n",
        "\n",
        "    # getting trade signals\n",
        "    count = 0\n",
        "    for value in signal:\n",
        "        if value == 0:\n",
        "            trade_type.append('')\n",
        "        elif count == 1:\n",
        "            if value == -1:\n",
        "                trade_type.append('close')\n",
        "                count = 0\n",
        "            else:\n",
        "                trade_type.append('')\n",
        "        elif count == -1:\n",
        "            if value == 1:\n",
        "                trade_type.append('close')\n",
        "                count = 0\n",
        "            else:\n",
        "                trade_type.append(\"\")\n",
        "        elif count == 0:\n",
        "            if value == 1:\n",
        "                trade_type.append('long')\n",
        "                count = 1\n",
        "            elif value == -1:\n",
        "                trade_type.append('short')\n",
        "                count = -1\n",
        "            else:\n",
        "                trade_type.append('')\n",
        "        else:\n",
        "            trade_type.append('')\n",
        "\n",
        "    data[\"signals\"] = signal\n",
        "    data[\"trade_type\"] = trade_type\n",
        "\n",
        "    # Keep only the necessary columns including datetime\n",
        "    data = data[['open', 'high', 'low', 'close', 'volume', 'signals', 'trade_type']].copy()\n",
        "\n",
        "    # Reset index and make sure datetime is a proper column\n",
        "    data.reset_index(inplace=True)\n",
        "    data['datetime'] = pd.to_datetime(data['datetime'], format='%d/%m/%Y %H:%M')\n",
        "    data['datetime'] = data['datetime'].dt.strftime('%Y-%m-%d %H:%M:%S')\n",
        "    return data\n",
        "\n",
        "def perform_backtest(csv_file_path):\n",
        "    # Create an instance of the untrade client\n",
        "    client = Client()\n",
        "    # Perform backtest using the provided CSV file path\n",
        "    result = client.backtest(\n",
        "        jupyter_id=\"dnfy.\",  # the one you use to login to jupyter.untrade.io\n",
        "        file_path=csv_file_path,\n",
        "        leverage=1,\n",
        "    )\n",
        "    return result\n",
        "\n",
        "def main():\n",
        "    # Read data from CSV file\n",
        "    data = pd.read_csv('BTCUSDT_4h_train_data.csv', parse_dates=['datetime'], index_col='datetime')\n",
        "\n",
        "    # Process data\n",
        "    processed_data = process_data(data)\n",
        "\n",
        "    # Apply strategy\n",
        "    strategy_signals = strat(processed_data)\n",
        "\n",
        "    # Save processed data to CSV file with formatted datetime\n",
        "    strategy_signals.to_csv(\"results.csv\", index=False)\n",
        "\n",
        "    backtest_result = perform_backtest(\"results.csv\")\n",
        "    print(backtest_result)\n",
        "\n",
        "    for value in backtest_result:\n",
        "        print(value)\n",
        "\n",
        "if __name__ == \"__main__\":\n",
        "    main()"
      ]
    },
    {
      "cell_type": "markdown",
      "metadata": {
        "id": "0pPQR7BXqBXa"
      },
      "source": [
        "Final Results:\n",
        "\n",
        "![Results stat_strat](results.png)\n",
        "\n",
        "The trading strategy was largely successful, yielding a profit percentage of 1644 %."
      ]
    },
    {
      "cell_type": "markdown",
      "metadata": {
        "id": "CM9JU5TcWvTu"
      },
      "source": [
        "## Conclusion"
      ]
    },
    {
      "cell_type": "markdown",
      "metadata": {
        "id": "mvxDVWiv_4hr"
      },
      "source": [
        "This project demonstrates the potential of combining statistical models and machine learning techniques to create a robust BTC/USD trading strategy. By analyzing historical data and testing various models, from ARIMA and GARCH to XGBoost, we identified patterns and predictive signals that can inform profitable trading decisions. While ARIMA worked poorly, Hull Moving Average provided promising results. While the results are promising, real-world application would require continuous model updating, risk management, and awareness of changing market dynamics."
      ]
    },
    {
      "cell_type": "markdown",
      "metadata": {
        "id": "TEurtAq6_1a-"
      },
      "source": [
        "## Use of LLMs"
      ]
    },
    {
      "cell_type": "markdown",
      "metadata": {
        "id": "04A0nid5_7d4"
      },
      "source": [
        "Throughout this project, we utilized Large Language Models (LLMs), specifically ChatGPT, to assist with debugging our Python code and to generate ideas on solving specific technical problems, including identifying relevant Python libraries and functions. Additionally, we used Grammarly and ChatGPT for proofreading, eliminating spelling errors, and enhancing the precision and clarity of the written text in our report."
      ]
    }
  ],
  "metadata": {
    "colab": {
      "provenance": []
    },
    "kernelspec": {
      "display_name": "base",
      "language": "python",
      "name": "python3"
    },
    "language_info": {
      "codemirror_mode": {
        "name": "ipython",
        "version": 3
      },
      "file_extension": ".py",
      "mimetype": "text/x-python",
      "name": "python",
      "nbconvert_exporter": "python",
      "pygments_lexer": "ipython3",
      "version": "3.9.12"
    }
  },
  "nbformat": 4,
  "nbformat_minor": 0
}
